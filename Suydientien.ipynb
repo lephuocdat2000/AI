{
  "nbformat": 4,
  "nbformat_minor": 0,
  "metadata": {
    "colab": {
      "name": "Suydientien.ipynb",
      "provenance": [],
      "authorship_tag": "ABX9TyM0/kpGSm/nMFsb8+F0Hx2V",
      "include_colab_link": true
    },
    "kernelspec": {
      "name": "python3",
      "display_name": "Python 3"
    }
  },
  "cells": [
    {
      "cell_type": "markdown",
      "metadata": {
        "id": "view-in-github",
        "colab_type": "text"
      },
      "source": [
        "<a href=\"https://colab.research.google.com/github/lephuocdat2000/AI/blob/master/Suydientien.ipynb\" target=\"_parent\"><img src=\"https://colab.research.google.com/assets/colab-badge.svg\" alt=\"Open In Colab\"/></a>"
      ]
    },
    {
      "cell_type": "code",
      "metadata": {
        "id": "ehMpGbpc0HeM",
        "colab_type": "code",
        "outputId": "1f35c643-2e18-433f-e9fa-3697509fbc53",
        "colab": {
          "base_uri": "https://localhost:8080/",
          "height": 120
        }
      },
      "source": [
        "from google.colab import drive\n",
        "import copy\n",
        "drive.mount('/content/drive')"
      ],
      "execution_count": 2,
      "outputs": [
        {
          "output_type": "stream",
          "text": [
            "Go to this URL in a browser: https://accounts.google.com/o/oauth2/auth?client_id=947318989803-6bn6qk8qdgf4n4g3pfee6491hc0brc4i.apps.googleusercontent.com&redirect_uri=urn%3aietf%3awg%3aoauth%3a2.0%3aoob&response_type=code&scope=email%20https%3a%2f%2fwww.googleapis.com%2fauth%2fdocs.test%20https%3a%2f%2fwww.googleapis.com%2fauth%2fdrive%20https%3a%2f%2fwww.googleapis.com%2fauth%2fdrive.photos.readonly%20https%3a%2f%2fwww.googleapis.com%2fauth%2fpeopleapi.readonly\n",
            "\n",
            "Enter your authorization code:\n",
            "··········\n",
            "Mounted at /content/drive\n"
          ],
          "name": "stdout"
        }
      ]
    },
    {
      "cell_type": "code",
      "metadata": {
        "id": "v4MJyLjg3zch",
        "colab_type": "code",
        "colab": {}
      },
      "source": [
        "import numpy as np "
      ],
      "execution_count": 0,
      "outputs": []
    },
    {
      "cell_type": "code",
      "metadata": {
        "id": "6QsqQUur5gKB",
        "colab_type": "code",
        "outputId": "aead5d10-56d3-4c50-9e91-7da7da0198a4",
        "colab": {
          "base_uri": "https://localhost:8080/",
          "height": 33
        }
      },
      "source": [
        "def DocFile():\n",
        "  f1=open('/content/drive/My Drive/foward chaining/Rules.txt','r')\n",
        "  f2=open('/content/drive/My Drive/foward chaining/Hypothesis.txt','r')\n",
        "  f3=open('/content/drive/My Drive/foward chaining/Target.txt','r')\n",
        "  Program=f1.readlines()\n",
        "  facts=f2.readlines()\n",
        "  target_arr=f3.readlines()\n",
        "  f1.close()\n",
        "  f2.close()\n",
        "  f3.close()\n",
        "  target=target_arr[0][0]\n",
        "  return Program,facts,target\n",
        "def CreateRules(Program,facts):\n",
        "  P=[]\n",
        "  m=len(Program)\n",
        "  for i in range(0,m):\n",
        "     rule=[]\n",
        "     a=Program[i].split()\n",
        "     GT=[]\n",
        "     for j in range(0,len(a)-1):\n",
        "       GT.append(int(a[j]))\n",
        "     rule.append(GT)\n",
        "     KL=[int(a[len(a)-1])]\n",
        "     rule.append(KL)\n",
        "     P.append(rule)\n",
        "  Hypo=[]\n",
        "  n=len(facts)\n",
        "  for i in range(0,n):\n",
        "    a=facts[i].split()\n",
        "    Hypo.append(int(a[0]))\n",
        "  return P,Hypo\n",
        "def Subset(A,B):\n",
        "  if len(A)<=len(B):\n",
        "    for t in A:\n",
        "      if not(t in B):\n",
        "        return 0\n",
        "    return 1\n",
        "  return 0\n",
        "def ForwardChaining(P,Hypo,target):\n",
        "  Known = copy.deepcopy(Hypo)\n",
        "  flag=1\n",
        "  while(flag==1):\n",
        "    flag=0\n",
        "    for rule in P:\n",
        "       if not(rule[1][0] in Known) and Subset(rule[0],Known )==1 and rule[1][0]!=target:\n",
        "          flag=1\n",
        "          Known.append(rule[1][0])\n",
        "  return Known\n",
        "def Prin_t(x:list,y,target):\n",
        "     if target in Hypo: return\n",
        "     stack.append([x,y]) \n",
        "     target1=x[0]\n",
        "     target2=x[1]\n",
        "     for i in P:\n",
        "       if i[1][0]==target1 and i[0][0] in Known and i[0][1] in Known:\n",
        "          Prin_t(i[0],i[1][0],target1)\n",
        "       if i[1][0]==target2 and i[0][0] in Known and i[0][1] in Known:\n",
        "          Prin_t(i[0],i[1][0],target2)\n",
        "if __name__== '__main__':\n",
        "  Program,facts,target=DocFile()\n",
        "  P,Hypo=CreateRules(Program,facts)\n",
        "  Known=ForwardChaining(P,Hypo,target)\n",
        "  print(Known)"
      ],
      "execution_count": 52,
      "outputs": [
        {
          "output_type": "stream",
          "text": [
            "[0, 1, 3, 2, 4, 7, 6]\n"
          ],
          "name": "stdout"
        }
      ]
    },
    {
      "cell_type": "code",
      "metadata": {
        "id": "kTqiBh5bDYS8",
        "colab_type": "code",
        "outputId": "0110e689-e1dd-4436-8dec-e445267c01c6",
        "colab": {
          "base_uri": "https://localhost:8080/",
          "height": 33
        }
      },
      "source": [
        "print(P)"
      ],
      "execution_count": 0,
      "outputs": [
        {
          "output_type": "stream",
          "text": [
            "[[[0, 1], [2]], [[2, 3], [4]], [[5, 1], [6]], [[0, 4], [7]], [[5], [4]], [[1, 4], [6]]]\n"
          ],
          "name": "stdout"
        }
      ]
    },
    {
      "cell_type": "code",
      "metadata": {
        "id": "Q7TafcyL9Hh0",
        "colab_type": "code",
        "colab": {
          "base_uri": "https://localhost:8080/",
          "height": 33
        },
        "outputId": "c874f373-0acd-4f9d-9f83-5718581e6442"
      },
      "source": [
        "print(Hypo)"
      ],
      "execution_count": 57,
      "outputs": [
        {
          "output_type": "stream",
          "text": [
            "[0, 1, 3]\n"
          ],
          "name": "stdout"
        }
      ]
    },
    {
      "cell_type": "code",
      "metadata": {
        "id": "kr-rGI2LCpsj",
        "colab_type": "code",
        "outputId": "9e1eb1da-aa44-4707-c52d-090ae5344477",
        "colab": {
          "base_uri": "https://localhost:8080/",
          "height": 67
        }
      },
      "source": [
        "   target=int(target)\n",
        "   stack=[]\n",
        "   if (target in Known):\n",
        "      i=target\n",
        "      for j in P: \n",
        "        if j[1][0]==i and j[0][0] in Known and j[0][1] in Known:\n",
        "          Prin_t(j[0],j[1][0],i)\n",
        "          break\n",
        "      stack.reverse()\n",
        "      for i in stack:\n",
        "         print(i[0],\"->\",i[1])\n",
        "    else:\n",
        "      print(\"Khong co ket qua\")\n",
        "\n",
        "\n",
        "   "
      ],
      "execution_count": 56,
      "outputs": [
        {
          "output_type": "stream",
          "text": [
            "[0, 1] -> 2\n",
            "[2, 3] -> 4\n",
            "[1, 4] -> 6\n"
          ],
          "name": "stdout"
        }
      ]
    }
  ]
}