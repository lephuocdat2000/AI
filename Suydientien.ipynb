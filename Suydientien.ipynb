{
  "nbformat": 4,
  "nbformat_minor": 0,
  "metadata": {
    "colab": {
      "name": "Suydientien.ipynb",
      "provenance": [],
      "authorship_tag": "ABX9TyO6UbJQGau5pNB/z4B22CJg",
      "include_colab_link": true
    },
    "kernelspec": {
      "name": "python3",
      "display_name": "Python 3"
    }
  },
  "cells": [
    {
      "cell_type": "markdown",
      "metadata": {
        "id": "view-in-github",
        "colab_type": "text"
      },
      "source": [
        "<a href=\"https://colab.research.google.com/github/lephuocdat2000/AI/blob/master/Suydientien.ipynb\" target=\"_parent\"><img src=\"https://colab.research.google.com/assets/colab-badge.svg\" alt=\"Open In Colab\"/></a>"
      ]
    },
    {
      "cell_type": "code",
      "metadata": {
        "id": "ehMpGbpc0HeM",
        "colab_type": "code",
        "outputId": "662c03e0-22c1-42bd-fc0a-e395c600c8be",
        "colab": {
          "base_uri": "https://localhost:8080/",
          "height": 33
        }
      },
      "source": [
        "from google.colab import drive\n",
        "drive.mount('/content/drive')"
      ],
      "execution_count": 0,
      "outputs": [
        {
          "output_type": "stream",
          "text": [
            "Drive already mounted at /content/drive; to attempt to forcibly remount, call drive.mount(\"/content/drive\", force_remount=True).\n"
          ],
          "name": "stdout"
        }
      ]
    },
    {
      "cell_type": "code",
      "metadata": {
        "id": "v4MJyLjg3zch",
        "colab_type": "code",
        "colab": {}
      },
      "source": [
        "import numpy as np "
      ],
      "execution_count": 0,
      "outputs": []
    },
    {
      "cell_type": "code",
      "metadata": {
        "id": "6QsqQUur5gKB",
        "colab_type": "code",
        "outputId": "f02b4f2d-91a4-487e-f295-04df22b467a6",
        "colab": {
          "base_uri": "https://localhost:8080/",
          "height": 33
        }
      },
      "source": [
        "def DocFile():\n",
        "  f1=open('/content/drive/My Drive/foward chaining/Rules.txt','r')\n",
        "  f2=open('/content/drive/My Drive/foward chaining/Hypothesis.txt','r')\n",
        "  f3=open('/content/drive/My Drive/foward chaining/Target.txt','r')\n",
        "  Program=f1.readlines()\n",
        "  facts=f2.readlines()\n",
        "  target_arr=f3.readlines()\n",
        "  f1.close()\n",
        "  f2.close()\n",
        "  f3.close()\n",
        "  target=target_arr[0][0]\n",
        "  return Program,facts,target\n",
        "def CreateRules(Program,facts):\n",
        "  P=[]\n",
        "  m=len(Program)\n",
        "  for i in range(0,m):\n",
        "     rule=[]\n",
        "     a=Program[i].split()\n",
        "     GT=[]\n",
        "     for j in range(0,len(a)-1):\n",
        "       GT.append(int(a[j]))\n",
        "     rule.append(GT)\n",
        "     KL=[int(a[len(a)-1])]\n",
        "     rule.append(KL)\n",
        "     P.append(rule)\n",
        "  Hypo=[]\n",
        "  n=len(facts)\n",
        "  for i in range(0,n):\n",
        "    a=facts[i].split()\n",
        "    Hypo.append(int(a[0]))\n",
        "  return P,Hypo\n",
        "def Subset(A,B):\n",
        "  if len(A)<=len(B):\n",
        "    for t in A:\n",
        "      if not(t in B):\n",
        "        return 0\n",
        "    return 1\n",
        "  return 0\n",
        "def ForwardChaining(P,Hypo,target):\n",
        "  Known=Hypo\n",
        "  flag=1\n",
        "  while(flag==1):\n",
        "    flag=0\n",
        "    for rule in P:\n",
        "       if not(rule[1][0] in Known) and Subset(rule[0],Known )==1 and rule[1][0]!=target:\n",
        "          flag=1\n",
        "          Known.append(rule[1][0])\n",
        "  return Known\n",
        "Program,facts,target=DocFile()\n",
        "P,Hypo=CreateRules(Program,facts)\n",
        "Known=ForwardChaining(P,Hypo,target)\n",
        "print(Known)"
      ],
      "execution_count": 0,
      "outputs": [
        {
          "output_type": "stream",
          "text": [
            "[0, 1, 3, 2, 4, 7, 6]\n"
          ],
          "name": "stdout"
        }
      ]
    },
    {
      "cell_type": "code",
      "metadata": {
        "id": "kTqiBh5bDYS8",
        "colab_type": "code",
        "outputId": "8cbb87bc-8764-4976-da45-c73e1834752a",
        "colab": {
          "base_uri": "https://localhost:8080/",
          "height": 33
        }
      },
      "source": [
        "print(P)"
      ],
      "execution_count": 0,
      "outputs": [
        {
          "output_type": "stream",
          "text": [
            "[[[0, 1], [2]], [[2, 3], [4]], [[5, 1], [6]], [[0, 4], [7]], [[5], [4]], [[1, 4], [6]]]\n"
          ],
          "name": "stdout"
        }
      ]
    },
    {
      "cell_type": "code",
      "metadata": {
        "id": "kr-rGI2LCpsj",
        "colab_type": "code",
        "outputId": "3bb75d34-9c3d-4e0a-9947-49c0541921cc",
        "colab": {
          "base_uri": "https://localhost:8080/",
          "height": 134
        }
      },
      "source": [
        "for i in range()\n",
        "   "
      ],
      "execution_count": 0,
      "outputs": [
        {
          "output_type": "stream",
          "text": [
            "0\n",
            "1\n",
            "3\n",
            "2\n",
            "4\n",
            "7\n",
            "6\n"
          ],
          "name": "stdout"
        }
      ]
    }
  ]
}