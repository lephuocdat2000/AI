{
  "nbformat": 4,
  "nbformat_minor": 0,
  "metadata": {
    "colab": {
      "name": " Final_Project.ipynb",
      "provenance": [],
      "collapsed_sections": [],
      "include_colab_link": true
    },
    "kernelspec": {
      "name": "python3",
      "display_name": "Python 3"
    }
  },
  "cells": [
    {
      "cell_type": "markdown",
      "metadata": {
        "id": "view-in-github",
        "colab_type": "text"
      },
      "source": [
        "<a href=\"https://colab.research.google.com/github/lephuocdat2000/AI/blob/master/Final_Project.ipynb\" target=\"_parent\"><img src=\"https://colab.research.google.com/assets/colab-badge.svg\" alt=\"Open In Colab\"/></a>"
      ]
    },
    {
      "cell_type": "markdown",
      "metadata": {
        "id": "uP6uibo5ZVvs",
        "colab_type": "text"
      },
      "source": [
        "**Khai Báo Thư Viện**"
      ]
    },
    {
      "cell_type": "code",
      "metadata": {
        "id": "bRK_RPenv6Pc",
        "colab_type": "code",
        "colab": {}
      },
      "source": [
        "import numpy as np\n",
        "import matplotlib \n",
        "import matplotlib.pyplot as plt\n",
        "import pandas as pd\n",
        "from pandas.plotting import scatter_matrix\n",
        "from matplotlib import pyplot\n",
        "import seaborn as sns; sns.set()"
      ],
      "execution_count": null,
      "outputs": []
    },
    {
      "cell_type": "code",
      "metadata": {
        "id": "F71l1qCBIOsN",
        "colab_type": "code",
        "colab": {}
      },
      "source": [
        "import sklearn.datasets\n",
        "iris = sklearn.datasets.load_iris()"
      ],
      "execution_count": null,
      "outputs": []
    },
    {
      "cell_type": "markdown",
      "metadata": {
        "id": "9qeAhInNZedt",
        "colab_type": "text"
      },
      "source": [
        "**Tải Bộ Dữ Liệu Lên**"
      ]
    },
    {
      "cell_type": "code",
      "metadata": {
        "id": "zietDhUdwyf6",
        "colab_type": "code",
        "colab": {
          "base_uri": "https://localhost:8080/",
          "height": 268
        },
        "outputId": "9825934a-77c4-49a0-a07e-0be8f3b1d4c3"
      },
      "source": [
        "url = \"https://raw.githubusercontent.com/jbrownlee/Datasets/master/iris.csv\"\n",
        "names = ['sepal-length', 'sepal-width', 'petal-length', 'petal-width', 'class']\n",
        "dataset = pd.read_csv(url, names=names)  #đọc dữ liệu\n",
        "\n",
        "# Ma Trận Dữ Liệu và 5 Phần Tử Đầu\n",
        "print(dataset.shape)\n",
        "print(dataset)\n",
        "# Mô Tả Dữ Liệu"
      ],
      "execution_count": null,
      "outputs": [
        {
          "output_type": "stream",
          "text": [
            "(150, 5)\n",
            "     sepal-length  sepal-width  petal-length  petal-width           class\n",
            "0             5.1          3.5           1.4          0.2     Iris-setosa\n",
            "1             4.9          3.0           1.4          0.2     Iris-setosa\n",
            "2             4.7          3.2           1.3          0.2     Iris-setosa\n",
            "3             4.6          3.1           1.5          0.2     Iris-setosa\n",
            "4             5.0          3.6           1.4          0.2     Iris-setosa\n",
            "..            ...          ...           ...          ...             ...\n",
            "145           6.7          3.0           5.2          2.3  Iris-virginica\n",
            "146           6.3          2.5           5.0          1.9  Iris-virginica\n",
            "147           6.5          3.0           5.2          2.0  Iris-virginica\n",
            "148           6.2          3.4           5.4          2.3  Iris-virginica\n",
            "149           5.9          3.0           5.1          1.8  Iris-virginica\n",
            "\n",
            "[150 rows x 5 columns]\n"
          ],
          "name": "stdout"
        }
      ]
    },
    {
      "cell_type": "code",
      "metadata": {
        "id": "7iqEC6EZBtsm",
        "colab_type": "code",
        "colab": {
          "base_uri": "https://localhost:8080/",
          "height": 251
        },
        "outputId": "69f8f8bd-f71d-4458-fd7b-16d7fe6dc742"
      },
      "source": [
        "print(dataset.describe())\n",
        "print(dataset.groupby('class').size())"
      ],
      "execution_count": null,
      "outputs": [
        {
          "output_type": "stream",
          "text": [
            "       sepal-length  sepal-width  petal-length  petal-width\n",
            "count    150.000000   150.000000    150.000000   150.000000\n",
            "mean       5.843333     3.054000      3.758667     1.198667\n",
            "std        0.828066     0.433594      1.764420     0.763161\n",
            "min        4.300000     2.000000      1.000000     0.100000\n",
            "25%        5.100000     2.800000      1.600000     0.300000\n",
            "50%        5.800000     3.000000      4.350000     1.300000\n",
            "75%        6.400000     3.300000      5.100000     1.800000\n",
            "max        7.900000     4.400000      6.900000     2.500000\n",
            "class\n",
            "Iris-setosa        50\n",
            "Iris-versicolor    50\n",
            "Iris-virginica     50\n",
            "dtype: int64\n"
          ],
          "name": "stdout"
        }
      ]
    },
    {
      "cell_type": "code",
      "metadata": {
        "id": "mKuztYZP8H7o",
        "colab_type": "code",
        "colab": {
          "base_uri": "https://localhost:8080/",
          "height": 196
        },
        "outputId": "edc79a00-9b34-4c3b-d532-ebfd5e998f9f"
      },
      "source": [
        "hide_data=dataset.iloc[145:150,:]\n",
        "hide_data"
      ],
      "execution_count": null,
      "outputs": [
        {
          "output_type": "execute_result",
          "data": {
            "text/html": [
              "<div>\n",
              "<style scoped>\n",
              "    .dataframe tbody tr th:only-of-type {\n",
              "        vertical-align: middle;\n",
              "    }\n",
              "\n",
              "    .dataframe tbody tr th {\n",
              "        vertical-align: top;\n",
              "    }\n",
              "\n",
              "    .dataframe thead th {\n",
              "        text-align: right;\n",
              "    }\n",
              "</style>\n",
              "<table border=\"1\" class=\"dataframe\">\n",
              "  <thead>\n",
              "    <tr style=\"text-align: right;\">\n",
              "      <th></th>\n",
              "      <th>sepal-length</th>\n",
              "      <th>sepal-width</th>\n",
              "      <th>petal-length</th>\n",
              "      <th>petal-width</th>\n",
              "      <th>class</th>\n",
              "    </tr>\n",
              "  </thead>\n",
              "  <tbody>\n",
              "    <tr>\n",
              "      <th>145</th>\n",
              "      <td>6.7</td>\n",
              "      <td>3.0</td>\n",
              "      <td>5.2</td>\n",
              "      <td>2.3</td>\n",
              "      <td>Iris-virginica</td>\n",
              "    </tr>\n",
              "    <tr>\n",
              "      <th>146</th>\n",
              "      <td>6.3</td>\n",
              "      <td>2.5</td>\n",
              "      <td>5.0</td>\n",
              "      <td>1.9</td>\n",
              "      <td>Iris-virginica</td>\n",
              "    </tr>\n",
              "    <tr>\n",
              "      <th>147</th>\n",
              "      <td>6.5</td>\n",
              "      <td>3.0</td>\n",
              "      <td>5.2</td>\n",
              "      <td>2.0</td>\n",
              "      <td>Iris-virginica</td>\n",
              "    </tr>\n",
              "    <tr>\n",
              "      <th>148</th>\n",
              "      <td>6.2</td>\n",
              "      <td>3.4</td>\n",
              "      <td>5.4</td>\n",
              "      <td>2.3</td>\n",
              "      <td>Iris-virginica</td>\n",
              "    </tr>\n",
              "    <tr>\n",
              "      <th>149</th>\n",
              "      <td>5.9</td>\n",
              "      <td>3.0</td>\n",
              "      <td>5.1</td>\n",
              "      <td>1.8</td>\n",
              "      <td>Iris-virginica</td>\n",
              "    </tr>\n",
              "  </tbody>\n",
              "</table>\n",
              "</div>"
            ],
            "text/plain": [
              "     sepal-length  sepal-width  petal-length  petal-width           class\n",
              "145           6.7          3.0           5.2          2.3  Iris-virginica\n",
              "146           6.3          2.5           5.0          1.9  Iris-virginica\n",
              "147           6.5          3.0           5.2          2.0  Iris-virginica\n",
              "148           6.2          3.4           5.4          2.3  Iris-virginica\n",
              "149           5.9          3.0           5.1          1.8  Iris-virginica"
            ]
          },
          "metadata": {
            "tags": []
          },
          "execution_count": 59
        }
      ]
    },
    {
      "cell_type": "markdown",
      "metadata": {
        "id": "cZnUKcurZpn9",
        "colab_type": "text"
      },
      "source": [
        "**Phân Tách Bộ Dữ Liệu và Tách Phân Lớp Class Khỏi Nhóm Hoa Iris** sử dụng train_test_split từ sklearn"
      ]
    },
    {
      "cell_type": "code",
      "metadata": {
        "id": "yxIi00rVZo2R",
        "colab_type": "code",
        "colab": {}
      },
      "source": [
        "from sklearn.model_selection import train_test_split\n",
        "array = dataset.iloc[0:145,:].values\n",
        "X = array[:,0:4]\n",
        "y = array[:,4]\n",
        "X_train, X_validation, Y_train, Y_validation = train_test_split(X, y, test_size=0.3, random_state=1, shuffle=True)"
      ],
      "execution_count": null,
      "outputs": []
    },
    {
      "cell_type": "markdown",
      "metadata": {
        "id": "H6aII--tDT38",
        "colab_type": "text"
      },
      "source": [
        "Dùng biểu đồ để xem mối quan hệ giữa các đại lượng"
      ]
    },
    {
      "cell_type": "code",
      "metadata": {
        "id": "g21Bh61EK_Oh",
        "colab_type": "code",
        "colab": {
          "base_uri": "https://localhost:8080/",
          "height": 298
        },
        "outputId": "59dbf48b-6f43-4172-c1b0-93cca40ed5dd"
      },
      "source": [
        "scatter_matrix(dataset)\n",
        "plt.show()"
      ],
      "execution_count": null,
      "outputs": [
        {
          "output_type": "display_data",
          "data": {
            "image/png": "[encoded data removed]",
            "text/plain": [
              "<Figure size 432x288 with 16 Axes>"
            ]
          },
          "metadata": {
            "tags": []
          }
        }
      ]
    },
    {
      "cell_type": "markdown",
      "metadata": {
        "id": "DB_ZI06HZ9BT",
        "colab_type": "text"
      },
      "source": [
        "**Thực Hiện Việc Kiểm Tra Và Đánh Giá Các Mô Hình Lên Hoa Iris** bằng các thuật toán classification cơ bản do sklearn hỗ trợ"
      ]
    },
    {
      "cell_type": "code",
      "metadata": {
        "id": "ElO1hUxOxzD6",
        "colab_type": "code",
        "colab": {
          "base_uri": "https://localhost:8080/",
          "height": 117
        },
        "outputId": "0845f927-8613-476e-fc8b-4dd6c9e04605"
      },
      "source": [
        "# Logistic Regression\n",
        "from sklearn.linear_model import LogisticRegression\n",
        "# Decision Tree & Random Forest\n",
        "from sklearn.tree import DecisionTreeClassifier\n",
        "from sklearn.ensemble import RandomForestClassifier\n",
        "# K-NN\n",
        "from sklearn.neighbors import KNeighborsClassifier\n",
        "# Gausian Naive Bayes\n",
        "from sklearn.naive_bayes import GaussianNB\n",
        "# SVM\n",
        "from sklearn.svm import SVC\n",
        "models = []\n",
        "models.append(('LR', LogisticRegression(solver='liblinear', multi_class='ovr')))\n",
        "models.append(('KNN', KNeighborsClassifier()))\n",
        "models.append(('RF', RandomForestClassifier()))\n",
        "models.append(('DTC', DecisionTreeClassifier()))\n",
        "models.append(('NB', GaussianNB()))\n",
        "models.append(('SVM', SVC(gamma='auto')))\n",
        "\n",
        "# Đánh Giá Mô Hình bằng phương pháp đánh giá chéo\n",
        "from sklearn.model_selection import cross_val_score\n",
        "results = []\n",
        "names = []\n",
        "for name, model in models:\n",
        "  \tcv_results = cross_val_score(model, X_train, Y_train, cv=10, scoring='accuracy')\n",
        "  \tresults.append(cv_results)\n",
        "  \tnames.append(name)\n",
        "  \tprint(name, cv_results.mean())  #cv_results.mean: trung bình hiệu suất của 10 lần fold"
      ],
      "execution_count": null,
      "outputs": [
        {
          "output_type": "stream",
          "text": [
            "LR 0.9509090909090909\n",
            "KNN 0.96\n",
            "RF 0.9400000000000001\n",
            "DTC 0.96\n",
            "NB 0.9400000000000001\n",
            "SVM 0.97\n"
          ],
          "name": "stdout"
        }
      ]
    },
    {
      "cell_type": "code",
      "metadata": {
        "id": "jX0Zks4f1yDk",
        "colab_type": "code",
        "colab": {
          "base_uri": "https://localhost:8080/",
          "height": 284
        },
        "outputId": "fc13b87c-6583-4f94-d658-4f4a62284ca8"
      },
      "source": [
        "# Compare Algorithms\n",
        "pyplot.boxplot(results, labels=names)\n",
        "pyplot.title('Algorithm Comparison')\n",
        "pyplot.show()"
      ],
      "execution_count": null,
      "outputs": [
        {
          "output_type": "display_data",
          "data": {
            "image/png": "[encoded data removed]",
            "text/plain": [
              "<Figure size 432x288 with 1 Axes>"
            ]
          },
          "metadata": {
            "tags": []
          }
        }
      ]
    },
    {
      "cell_type": "markdown",
      "metadata": {
        "id": "2Al0P6tx2HJe",
        "colab_type": "text"
      },
      "source": [
        "Ta thấy rằng đa số các model đều có sự giao động về độ chính xác sau 10 lần đánh giá chéo chỉ có SVM là luôn đạt độ chính xác ở mức cao nhất => SVM phù hợp với bộ dữ liệu này"
      ]
    },
    {
      "cell_type": "markdown",
      "metadata": {
        "id": "fNE-lWuIuUtL",
        "colab_type": "text"
      },
      "source": [
        "\n",
        "\n",
        "---\n",
        "\n"
      ]
    },
    {
      "cell_type": "markdown",
      "metadata": {
        "id": "ZYD9gz6Buq0p",
        "colab_type": "text"
      },
      "source": [
        "Tiến hành train model bằng thuật toán SVM"
      ]
    },
    {
      "cell_type": "code",
      "metadata": {
        "id": "72CLG91hyDaT",
        "colab_type": "code",
        "colab": {
          "base_uri": "https://localhost:8080/",
          "height": 33
        },
        "outputId": "82998a65-9212-4068-9c05-fe2ba7b75fe0"
      },
      "source": [
        "# Kiểm Chứng Dự Đoán Lên Bộ Dữ Liệu Đánh Giá\n",
        "from sklearn.metrics import accuracy_score\n",
        "model = SVC(gamma='auto')\n",
        "model.fit(X_train, Y_train)\n",
        "predictions = model.predict(X_validation)\n",
        "print(accuracy_score(Y_validation, predictions))"
      ],
      "execution_count": null,
      "outputs": [
        {
          "output_type": "stream",
          "text": [
            "0.9772727272727273\n"
          ],
          "name": "stdout"
        }
      ]
    },
    {
      "cell_type": "markdown",
      "metadata": {
        "id": "VoGBTM3N23hu",
        "colab_type": "text"
      },
      "source": [
        "accuracy_score: số lượng dự đoán đúng / tổng số mẫu dự đoán\n"
      ]
    },
    {
      "cell_type": "markdown",
      "metadata": {
        "id": "fBFbp3C95RUj",
        "colab_type": "text"
      },
      "source": [
        "Biểu diễn kết quả dự đoán dưới dạng confusion matrix"
      ]
    },
    {
      "cell_type": "code",
      "metadata": {
        "id": "ETzxt1StvUFy",
        "colab_type": "code",
        "colab": {
          "base_uri": "https://localhost:8080/",
          "height": 302
        },
        "outputId": "2aba43ec-5b3e-48de-ad29-6dfb8fe65a18"
      },
      "source": [
        "from sklearn.metrics import confusion_matrix\n",
        "target_names=['Iris-setosa','Iris-versicolor','Iris-virginica']\n",
        "mat=confusion_matrix(Y_validation,predictions)\n",
        "sns.heatmap(mat,square=True,annot=True,cbar=False,xticklabels=target_names,yticklabels=target_names)\n",
        "plt.xlabel('true label')\n",
        "plt.ylabel('predicted label')"
      ],
      "execution_count": null,
      "outputs": [
        {
          "output_type": "execute_result",
          "data": {
            "text/plain": [
              "Text(89.18, 0.5, 'predicted label')"
            ]
          },
          "metadata": {
            "tags": []
          },
          "execution_count": 105
        },
        {
          "output_type": "display_data",
          "data": {
            "image/png": "[encoded data removed]",
            "text/plain": [
              "<Figure size 432x288 with 1 Axes>"
            ]
          },
          "metadata": {
            "tags": []
          }
        }
      ]
    },
    {
      "cell_type": "markdown",
      "metadata": {
        "id": "r77IQt1r5yfr",
        "colab_type": "text"
      },
      "source": [
        "Đánh giá f1-score"
      ]
    },
    {
      "cell_type": "code",
      "metadata": {
        "id": "T7XoNn9Y2v-t",
        "colab_type": "code",
        "colab": {
          "base_uri": "https://localhost:8080/",
          "height": 184
        },
        "outputId": "b2d6bc7c-5222-4de2-b256-1ad49313be2b"
      },
      "source": [
        "from sklearn.metrics import classification_report\n",
        "print(classification_report(Y_validation, predictions))"
      ],
      "execution_count": null,
      "outputs": [
        {
          "output_type": "stream",
          "text": [
            "                 precision    recall  f1-score   support\n",
            "\n",
            "    Iris-setosa       1.00      1.00      1.00        19\n",
            "Iris-versicolor       0.93      1.00      0.97        14\n",
            " Iris-virginica       1.00      0.91      0.95        11\n",
            "\n",
            "       accuracy                           0.98        44\n",
            "      macro avg       0.98      0.97      0.97        44\n",
            "   weighted avg       0.98      0.98      0.98        44\n",
            "\n"
          ],
          "name": "stdout"
        }
      ]
    },
    {
      "cell_type": "markdown",
      "metadata": {
        "id": "hLzAIfreE646",
        "colab_type": "text"
      },
      "source": [
        "f1-score rất cao tuy nhiên vẫn còn cải thiện được"
      ]
    },
    {
      "cell_type": "markdown",
      "metadata": {
        "id": "1jQiK2uI_K0f",
        "colab_type": "text"
      },
      "source": [
        "Tuning Hyperparameter sử dụng GridSearchCV do sklearn cung cấp"
      ]
    },
    {
      "cell_type": "code",
      "metadata": {
        "id": "LFPifPjB59H6",
        "colab_type": "code",
        "colab": {
          "base_uri": "https://localhost:8080/",
          "height": 33
        },
        "outputId": "66c20994-85d7-4286-8627-4a83a3d1a0f7"
      },
      "source": [
        "from sklearn.model_selection import GridSearchCV\n",
        "param_grid={\n",
        "             'kernel':['linear','rbf','poly'],\n",
        "            }\n",
        "search=GridSearchCV(model,param_grid,n_jobs=-1)\n",
        "search.fit(X_validation,Y_validation)\n",
        "search.best_params_"
      ],
      "execution_count": null,
      "outputs": [
        {
          "output_type": "execute_result",
          "data": {
            "text/plain": [
              "{'kernel': 'poly'}"
            ]
          },
          "metadata": {
            "tags": []
          },
          "execution_count": 98
        }
      ]
    },
    {
      "cell_type": "markdown",
      "metadata": {
        "id": "UJR-Kgwj_RE5",
        "colab_type": "text"
      },
      "source": [
        "GridSearch chọn kernel = poly để model đạt hiệu suất tốt nhất"
      ]
    },
    {
      "cell_type": "markdown",
      "metadata": {
        "id": "rXzveKQn_b_C",
        "colab_type": "text"
      },
      "source": [
        "Tiến hành train và đánh lại model với tham số kernel thay đổi"
      ]
    },
    {
      "cell_type": "code",
      "metadata": {
        "id": "5wEt1rDI-9Lg",
        "colab_type": "code",
        "colab": {
          "base_uri": "https://localhost:8080/",
          "height": 33
        },
        "outputId": "f6f3993c-3242-4c59-fc51-ae6bfc122185"
      },
      "source": [
        "tuning_model = SVC(gamma='auto',kernel='poly')\n",
        "tuning_model.fit(X_train, Y_train)\n",
        "predictions = tuning_model.predict(X_validation)\n",
        "print(accuracy_score(Y_validation, predictions))"
      ],
      "execution_count": null,
      "outputs": [
        {
          "output_type": "stream",
          "text": [
            "1.0\n"
          ],
          "name": "stdout"
        }
      ]
    },
    {
      "cell_type": "code",
      "metadata": {
        "id": "1mAHQJJz_hrR",
        "colab_type": "code",
        "colab": {
          "base_uri": "https://localhost:8080/",
          "height": 184
        },
        "outputId": "2799011e-5d36-4d59-cac7-d7aac4906677"
      },
      "source": [
        "print(classification_report(Y_validation, predictions))"
      ],
      "execution_count": null,
      "outputs": [
        {
          "output_type": "stream",
          "text": [
            "                 precision    recall  f1-score   support\n",
            "\n",
            "    Iris-setosa       1.00      1.00      1.00        12\n",
            "Iris-versicolor       1.00      1.00      1.00        10\n",
            " Iris-virginica       1.00      1.00      1.00         7\n",
            "\n",
            "       accuracy                           1.00        29\n",
            "      macro avg       1.00      1.00      1.00        29\n",
            "   weighted avg       1.00      1.00      1.00        29\n",
            "\n"
          ],
          "name": "stdout"
        }
      ]
    },
    {
      "cell_type": "markdown",
      "metadata": {
        "id": "IZ5X7JY8_nm4",
        "colab_type": "text"
      },
      "source": [
        "Hàm dự đoán loại hoa với đầu vào là 4 thông số chiều dài,chiều rộng của cánh hoa và đài hoa"
      ]
    },
    {
      "cell_type": "code",
      "metadata": {
        "id": "mPAFJ21YLulo",
        "colab_type": "code",
        "colab": {}
      },
      "source": [
        "def Predict_Func(x,y,z,t,model=tuning_model,train=X_train):\n",
        "    arr=[[x,y,z,t]]\n",
        "    pred=model.predict(arr)\n",
        "    print(\"Loai hoa duoc model du doan la: \",pred[0])\n",
        "    print(\"Thank you\")"
      ],
      "execution_count": null,
      "outputs": []
    },
    {
      "cell_type": "code",
      "metadata": {
        "id": "qFN74091ACq3",
        "colab_type": "code",
        "colab": {
          "base_uri": "https://localhost:8080/",
          "height": 196
        },
        "outputId": "fdbc0e27-f4c9-4f4a-ff92-623f106aa1c4"
      },
      "source": [
        "hide_data"
      ],
      "execution_count": null,
      "outputs": [
        {
          "output_type": "execute_result",
          "data": {
            "text/html": [
              "<div>\n",
              "<style scoped>\n",
              "    .dataframe tbody tr th:only-of-type {\n",
              "        vertical-align: middle;\n",
              "    }\n",
              "\n",
              "    .dataframe tbody tr th {\n",
              "        vertical-align: top;\n",
              "    }\n",
              "\n",
              "    .dataframe thead th {\n",
              "        text-align: right;\n",
              "    }\n",
              "</style>\n",
              "<table border=\"1\" class=\"dataframe\">\n",
              "  <thead>\n",
              "    <tr style=\"text-align: right;\">\n",
              "      <th></th>\n",
              "      <th>sepal-length</th>\n",
              "      <th>sepal-width</th>\n",
              "      <th>petal-length</th>\n",
              "      <th>petal-width</th>\n",
              "      <th>class</th>\n",
              "    </tr>\n",
              "  </thead>\n",
              "  <tbody>\n",
              "    <tr>\n",
              "      <th>145</th>\n",
              "      <td>6.7</td>\n",
              "      <td>3.0</td>\n",
              "      <td>5.2</td>\n",
              "      <td>2.3</td>\n",
              "      <td>Iris-virginica</td>\n",
              "    </tr>\n",
              "    <tr>\n",
              "      <th>146</th>\n",
              "      <td>6.3</td>\n",
              "      <td>2.5</td>\n",
              "      <td>5.0</td>\n",
              "      <td>1.9</td>\n",
              "      <td>Iris-virginica</td>\n",
              "    </tr>\n",
              "    <tr>\n",
              "      <th>147</th>\n",
              "      <td>6.5</td>\n",
              "      <td>3.0</td>\n",
              "      <td>5.2</td>\n",
              "      <td>2.0</td>\n",
              "      <td>Iris-virginica</td>\n",
              "    </tr>\n",
              "    <tr>\n",
              "      <th>148</th>\n",
              "      <td>6.2</td>\n",
              "      <td>3.4</td>\n",
              "      <td>5.4</td>\n",
              "      <td>2.3</td>\n",
              "      <td>Iris-virginica</td>\n",
              "    </tr>\n",
              "    <tr>\n",
              "      <th>149</th>\n",
              "      <td>5.9</td>\n",
              "      <td>3.0</td>\n",
              "      <td>5.1</td>\n",
              "      <td>1.8</td>\n",
              "      <td>Iris-virginica</td>\n",
              "    </tr>\n",
              "  </tbody>\n",
              "</table>\n",
              "</div>"
            ],
            "text/plain": [
              "     sepal-length  sepal-width  petal-length  petal-width           class\n",
              "145           6.7          3.0           5.2          2.3  Iris-virginica\n",
              "146           6.3          2.5           5.0          1.9  Iris-virginica\n",
              "147           6.5          3.0           5.2          2.0  Iris-virginica\n",
              "148           6.2          3.4           5.4          2.3  Iris-virginica\n",
              "149           5.9          3.0           5.1          1.8  Iris-virginica"
            ]
          },
          "metadata": {
            "tags": []
          },
          "execution_count": 82
        }
      ]
    },
    {
      "cell_type": "code",
      "metadata": {
        "id": "cPytQhySBGCy",
        "colab_type": "code",
        "colab": {
          "base_uri": "https://localhost:8080/",
          "height": 50
        },
        "outputId": "d135ab73-aec5-4c72-eaaf-4eb139cc1048"
      },
      "source": [
        "Predict_Func(6.5,3.0,5.2,2.0)"
      ],
      "execution_count": null,
      "outputs": [
        {
          "output_type": "stream",
          "text": [
            "Loai hoa duoc model du doan la:  Iris-virginica\n",
            "Thank you\n"
          ],
          "name": "stdout"
        }
      ]
    }
  ]
}