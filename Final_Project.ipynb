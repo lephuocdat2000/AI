{
  "nbformat": 4,
  "nbformat_minor": 0,
  "metadata": {
    "colab": {
      "name": "Final_Project.ipynb",
      "provenance": [],
      "collapsed_sections": [],
      "include_colab_link": true
    },
    "kernelspec": {
      "name": "python3",
      "display_name": "Python 3"
    }
  },
  "cells": [
    {
      "cell_type": "markdown",
      "metadata": {
        "id": "view-in-github",
        "colab_type": "text"
      },
      "source": [
        "<a href=\"https://colab.research.google.com/github/lephuocdat2000/AI/blob/master/Final_Project.ipynb\" target=\"_parent\"><img src=\"https://colab.research.google.com/assets/colab-badge.svg\" alt=\"Open In Colab\"/></a>"
      ]
    },
    {
      "cell_type": "markdown",
      "metadata": {
        "id": "uP6uibo5ZVvs",
        "colab_type": "text"
      },
      "source": [
        "**Khai Báo Thư Viện**"
      ]
    },
    {
      "cell_type": "code",
      "metadata": {
        "id": "bRK_RPenv6Pc",
        "colab_type": "code",
        "colab": {}
      },
      "source": [
        "import numpy as np\n",
        "import matplotlib \n",
        "import matplotlib.pyplot as plt\n",
        "import pandas as pd\n",
        "from pandas.plotting import scatter_matrix\n",
        "from matplotlib import pyplot\n",
        "from sklearn.cluster import KMeans\n",
        "from sklearn.model_selection import train_test_split\n",
        "from sklearn.model_selection import cross_val_score\n",
        "from sklearn.model_selection import StratifiedKFold\n",
        "from sklearn.metrics import classification_report, confusion_matrix\n",
        "from sklearn.metrics import accuracy_score\n",
        "import seaborn as sns; sns.set()"
      ],
      "execution_count": 3,
      "outputs": []
    },
    {
      "cell_type": "markdown",
      "metadata": {
        "id": "AGQ5yGZ0Zbu2",
        "colab_type": "text"
      },
      "source": [
        "**Khai Báo Mô Hình**"
      ]
    },
    {
      "cell_type": "code",
      "metadata": {
        "id": "vwOjABl5kjjx",
        "colab_type": "code",
        "colab": {}
      },
      "source": [
        "# Logistic Regression\n",
        "from sklearn.linear_model import LogisticRegression\n",
        "# Decision Tree & Random Forest\n",
        "from sklearn.tree import DecisionTreeClassifier\n",
        "from sklearn.ensemble import RandomForestClassifier\n",
        "# K-NN\n",
        "from sklearn.neighbors import KNeighborsClassifier\n",
        "# K-Means\n",
        "from sklearn.cluster import KMeans\n",
        "# Gausian Naive Bayes\n",
        "from sklearn.naive_bayes import GaussianNB\n",
        "# SVM\n",
        "from sklearn.svm import SVC\n",
        "%matplotlib inline"
      ],
      "execution_count": 4,
      "outputs": []
    },
    {
      "cell_type": "markdown",
      "metadata": {
        "id": "9qeAhInNZedt",
        "colab_type": "text"
      },
      "source": [
        "**Tải Bộ Dữ Liệu Lên**"
      ]
    },
    {
      "cell_type": "code",
      "metadata": {
        "id": "zietDhUdwyf6",
        "colab_type": "code",
        "colab": {
          "base_uri": "https://localhost:8080/",
          "height": 268
        },
        "outputId": "384ec437-f755-4e85-fcb7-98179dcea2b5"
      },
      "source": [
        "url = \"https://raw.githubusercontent.com/jbrownlee/Datasets/master/iris.csv\"\n",
        "names = ['sepal-length', 'sepal-width', 'petal-length', 'petal-width', 'class']\n",
        "dataset = pd.read_csv(url, names=names)  #đọc dữ liệu\n",
        "\n",
        "# Ma Trận Dữ Liệu và 5 Phần Tử Đầu\n",
        "print(dataset.shape)\n",
        "print(dataset)\n",
        "# Mô Tả Dữ Liệu"
      ],
      "execution_count": 5,
      "outputs": [
        {
          "output_type": "stream",
          "text": [
            "(150, 5)\n",
            "     sepal-length  sepal-width  petal-length  petal-width           class\n",
            "0             5.1          3.5           1.4          0.2     Iris-setosa\n",
            "1             4.9          3.0           1.4          0.2     Iris-setosa\n",
            "2             4.7          3.2           1.3          0.2     Iris-setosa\n",
            "3             4.6          3.1           1.5          0.2     Iris-setosa\n",
            "4             5.0          3.6           1.4          0.2     Iris-setosa\n",
            "..            ...          ...           ...          ...             ...\n",
            "145           6.7          3.0           5.2          2.3  Iris-virginica\n",
            "146           6.3          2.5           5.0          1.9  Iris-virginica\n",
            "147           6.5          3.0           5.2          2.0  Iris-virginica\n",
            "148           6.2          3.4           5.4          2.3  Iris-virginica\n",
            "149           5.9          3.0           5.1          1.8  Iris-virginica\n",
            "\n",
            "[150 rows x 5 columns]\n"
          ],
          "name": "stdout"
        }
      ]
    },
    {
      "cell_type": "code",
      "metadata": {
        "id": "7iqEC6EZBtsm",
        "colab_type": "code",
        "colab": {
          "base_uri": "https://localhost:8080/",
          "height": 251
        },
        "outputId": "dd445343-f70b-4652-d6c4-fdd9d41032c2"
      },
      "source": [
        "print(dataset.describe())\n",
        "print(dataset.groupby('class').size())"
      ],
      "execution_count": 6,
      "outputs": [
        {
          "output_type": "stream",
          "text": [
            "       sepal-length  sepal-width  petal-length  petal-width\n",
            "count    150.000000   150.000000    150.000000   150.000000\n",
            "mean       5.843333     3.054000      3.758667     1.198667\n",
            "std        0.828066     0.433594      1.764420     0.763161\n",
            "min        4.300000     2.000000      1.000000     0.100000\n",
            "25%        5.100000     2.800000      1.600000     0.300000\n",
            "50%        5.800000     3.000000      4.350000     1.300000\n",
            "75%        6.400000     3.300000      5.100000     1.800000\n",
            "max        7.900000     4.400000      6.900000     2.500000\n",
            "class\n",
            "Iris-setosa        50\n",
            "Iris-versicolor    50\n",
            "Iris-virginica     50\n",
            "dtype: int64\n"
          ],
          "name": "stdout"
        }
      ]
    },
    {
      "cell_type": "markdown",
      "metadata": {
        "id": "cZnUKcurZpn9",
        "colab_type": "text"
      },
      "source": [
        "**Phân Tách Bộ Dữ Liệu và Tách Phân Lớp Class Khỏi Nhóm Hoa Iris**"
      ]
    },
    {
      "cell_type": "code",
      "metadata": {
        "id": "yxIi00rVZo2R",
        "colab_type": "code",
        "colab": {}
      },
      "source": [
        "array = dataset.values\n",
        "X = array[:,0:4]\n",
        "y = array[:,4]\n",
        "X_train, X_validation, Y_train, Y_validation = train_test_split(X, y, test_size=0.20, random_state=1, shuffle=True)"
      ],
      "execution_count": 7,
      "outputs": []
    },
    {
      "cell_type": "code",
      "metadata": {
        "id": "g21Bh61EK_Oh",
        "colab_type": "code",
        "colab": {
          "base_uri": "https://localhost:8080/",
          "height": 298
        },
        "outputId": "92d7f648-d95a-43c2-b4a1-e521dc1cb849"
      },
      "source": [
        "scatter_matrix(dataset)\n",
        "plt.show()"
      ],
      "execution_count": 8,
      "outputs": [
        {
          "output_type": "display_data",
          "data": {
            "image/png": "[encoded data removed]",
            "text/plain": [
              "<Figure size 432x288 with 16 Axes>"
            ]
          },
          "metadata": {
            "tags": [],
            "needs_background": "light"
          }
        }
      ]
    },
    {
      "cell_type": "markdown",
      "metadata": {
        "id": "DB_ZI06HZ9BT",
        "colab_type": "text"
      },
      "source": [
        "**Thực Hiện Việc Kiểm Tra Và Đánh Giá Các Mô Hình Lên Hoa Iris**"
      ]
    },
    {
      "cell_type": "code",
      "metadata": {
        "id": "ElO1hUxOxzD6",
        "colab_type": "code",
        "colab": {
          "base_uri": "https://localhost:8080/",
          "height": 117
        },
        "outputId": "872b2a09-7b12-43fe-9419-0330d765c9b2"
      },
      "source": [
        "models = []\n",
        "models.append(('LR', LogisticRegression(solver='liblinear', multi_class='ovr')))\n",
        "models.append(('KNN', KNeighborsClassifier()))\n",
        "models.append(('RF', RandomForestClassifier()))\n",
        "models.append(('DTC', DecisionTreeClassifier()))\n",
        "models.append(('NB', GaussianNB()))\n",
        "models.append(('SVM', SVC(gamma='auto')))\n",
        "\n",
        "# Đánh Giá Mô Hình\n",
        "results = []\n",
        "names = []\n",
        "for name, model in models:\n",
        "  \tcv_results = cross_val_score(model, X_train, Y_train, cv=10, scoring='accuracy')\n",
        "  \tresults.append(cv_results)\n",
        "  \tnames.append(name)\n",
        "  \tprint(name, cv_results.mean())  #cv_results.mean: trung bình hiệu suất của 10 lần fold"
      ],
      "execution_count": 9,
      "outputs": [
        {
          "output_type": "stream",
          "text": [
            "LR 0.95\n",
            "KNN 0.9583333333333333\n",
            "RF 0.9333333333333332\n",
            "DTC 0.9416666666666667\n",
            "NB 0.9499999999999998\n",
            "SVM 0.9833333333333332\n"
          ],
          "name": "stdout"
        }
      ]
    },
    {
      "cell_type": "code",
      "metadata": {
        "id": "jX0Zks4f1yDk",
        "colab_type": "code",
        "colab": {
          "base_uri": "https://localhost:8080/",
          "height": 284
        },
        "outputId": "86c88f76-5687-4e8d-deba-2b1e450027f8"
      },
      "source": [
        "# Compare Algorithms\n",
        "pyplot.boxplot(results, labels=names)\n",
        "pyplot.title('Algorithm Comparison')\n",
        "pyplot.show()"
      ],
      "execution_count": 10,
      "outputs": [
        {
          "output_type": "display_data",
          "data": {
            "image/png": "[encoded data removed]",
            "text/plain": [
              "<Figure size 432x288 with 1 Axes>"
            ]
          },
          "metadata": {
            "tags": [],
            "needs_background": "light"
          }
        }
      ]
    },
    {
      "cell_type": "markdown",
      "metadata": {
        "id": "2Al0P6tx2HJe",
        "colab_type": "text"
      },
      "source": [
        "Ta thấy rằng đa số các model đều có sự giao động về độ chính xác sau 10 lần gấp chỉ có SVM là luôn đạt độ chính xác ở mức cao nhất => SVM phù hợp với bộ dữ liệu này"
      ]
    },
    {
      "cell_type": "markdown",
      "metadata": {
        "id": "fNE-lWuIuUtL",
        "colab_type": "text"
      },
      "source": [
        "\n",
        "\n",
        "---\n",
        "\n"
      ]
    },
    {
      "cell_type": "markdown",
      "metadata": {
        "id": "ZYD9gz6Buq0p",
        "colab_type": "text"
      },
      "source": [
        "Tiến hành train model bằng thuật toán SVM"
      ]
    },
    {
      "cell_type": "code",
      "metadata": {
        "id": "72CLG91hyDaT",
        "colab_type": "code",
        "colab": {
          "base_uri": "https://localhost:8080/",
          "height": 33
        },
        "outputId": "83acf11b-82ce-48a2-abb4-4e9f3f0491c5"
      },
      "source": [
        "# Kiểm Chứng Dự Đoán Lên Bộ Dữ Liệu Đánh Giá\n",
        "model = SVC(gamma='auto',)\n",
        "model.fit(X_train, Y_train)\n",
        "predictions = model.predict(X_validation)\n",
        "print(accuracy_score(Y_validation, predictions))"
      ],
      "execution_count": 11,
      "outputs": [
        {
          "output_type": "stream",
          "text": [
            "0.9666666666666667\n"
          ],
          "name": "stdout"
        }
      ]
    },
    {
      "cell_type": "markdown",
      "metadata": {
        "id": "VoGBTM3N23hu",
        "colab_type": "text"
      },
      "source": [
        "accuracy_score: số lượng dự đoán đúng / tổng số mẫu dự đoán\n"
      ]
    },
    {
      "cell_type": "markdown",
      "metadata": {
        "id": "fBFbp3C95RUj",
        "colab_type": "text"
      },
      "source": [
        "Biểu diễn kết quả dự đoán dưới dạng confusion matrix"
      ]
    },
    {
      "cell_type": "code",
      "metadata": {
        "id": "ETzxt1StvUFy",
        "colab_type": "code",
        "colab": {
          "base_uri": "https://localhost:8080/",
          "height": 302
        },
        "outputId": "dddca0f3-1aed-4c44-ec42-06d77a7fa093"
      },
      "source": [
        "target_names=['Iris-setosa','Iris-versicolor','Iris-virginica']\n",
        "mat=confusion_matrix(Y_validation,predictions)\n",
        "sns.heatmap(mat,square=True,annot=True,fmt='d',cbar=False,xticklabels=target_names,yticklabels=target_names)\n",
        "plt.xlabel('true label')\n",
        "plt.ylabel('predicted label')"
      ],
      "execution_count": 12,
      "outputs": [
        {
          "output_type": "execute_result",
          "data": {
            "text/plain": [
              "Text(89.18, 0.5, 'predicted label')"
            ]
          },
          "metadata": {
            "tags": []
          },
          "execution_count": 12
        },
        {
          "output_type": "display_data",
          "data": {
            "image/png": "[encoded data removed]",
            "text/plain": [
              "<Figure size 432x288 with 1 Axes>"
            ]
          },
          "metadata": {
            "tags": [],
            "needs_background": "light"
          }
        }
      ]
    },
    {
      "cell_type": "markdown",
      "metadata": {
        "id": "r77IQt1r5yfr",
        "colab_type": "text"
      },
      "source": [
        "Đánh giá f1-score"
      ]
    },
    {
      "cell_type": "code",
      "metadata": {
        "id": "T7XoNn9Y2v-t",
        "colab_type": "code",
        "colab": {
          "base_uri": "https://localhost:8080/",
          "height": 184
        },
        "outputId": "32a2c31a-109d-4aec-c2df-32f181531a32"
      },
      "source": [
        "print(classification_report(Y_validation, predictions))"
      ],
      "execution_count": 13,
      "outputs": [
        {
          "output_type": "stream",
          "text": [
            "                 precision    recall  f1-score   support\n",
            "\n",
            "    Iris-setosa       1.00      1.00      1.00        11\n",
            "Iris-versicolor       1.00      0.92      0.96        13\n",
            " Iris-virginica       0.86      1.00      0.92         6\n",
            "\n",
            "       accuracy                           0.97        30\n",
            "      macro avg       0.95      0.97      0.96        30\n",
            "   weighted avg       0.97      0.97      0.97        30\n",
            "\n"
          ],
          "name": "stdout"
        }
      ]
    },
    {
      "cell_type": "markdown",
      "metadata": {
        "id": "1jQiK2uI_K0f",
        "colab_type": "text"
      },
      "source": [
        "Tuning Hyperparameter sử dụng GridSearchCV do sklearn cung cấp"
      ]
    },
    {
      "cell_type": "code",
      "metadata": {
        "id": "LFPifPjB59H6",
        "colab_type": "code",
        "colab": {
          "base_uri": "https://localhost:8080/",
          "height": 33
        },
        "outputId": "cad86a0f-8157-4fec-89a9-0ecef719de56"
      },
      "source": [
        "from sklearn.model_selection import GridSearchCV\n",
        "param_grid={\n",
        "             'kernel':['linear','rbf','poly'],\n",
        "            }\n",
        "search=GridSearchCV(model,param_grid,n_jobs=-1)\n",
        "search.fit(X_validation,Y_validation)\n",
        "search.best_params_"
      ],
      "execution_count": 14,
      "outputs": [
        {
          "output_type": "execute_result",
          "data": {
            "text/plain": [
              "{'kernel': 'linear'}"
            ]
          },
          "metadata": {
            "tags": []
          },
          "execution_count": 14
        }
      ]
    },
    {
      "cell_type": "markdown",
      "metadata": {
        "id": "UJR-Kgwj_RE5",
        "colab_type": "text"
      },
      "source": [
        "GridSearch chọn kernel = linear để model đạt hiệu suất tốt nhất"
      ]
    },
    {
      "cell_type": "markdown",
      "metadata": {
        "id": "rXzveKQn_b_C",
        "colab_type": "text"
      },
      "source": [
        "Tiến hành train và đánh lại model với tham số kernel thay đổi"
      ]
    },
    {
      "cell_type": "code",
      "metadata": {
        "id": "5wEt1rDI-9Lg",
        "colab_type": "code",
        "colab": {
          "base_uri": "https://localhost:8080/",
          "height": 33
        },
        "outputId": "197db866-c9ef-4443-c5d2-0fc5b9da115c"
      },
      "source": [
        "tuning_model = SVC(gamma='auto',kernel='linear')\n",
        "tuning_model.fit(X_train, Y_train)\n",
        "predictions = tuning_model.predict(X_validation)\n",
        "print(accuracy_score(Y_validation, predictions))"
      ],
      "execution_count": 15,
      "outputs": [
        {
          "output_type": "stream",
          "text": [
            "1.0\n"
          ],
          "name": "stdout"
        }
      ]
    },
    {
      "cell_type": "code",
      "metadata": {
        "id": "1mAHQJJz_hrR",
        "colab_type": "code",
        "colab": {
          "base_uri": "https://localhost:8080/",
          "height": 184
        },
        "outputId": "c450406d-fcc4-4212-c80d-c41be58c9656"
      },
      "source": [
        "print(classification_report(Y_validation, predictions))"
      ],
      "execution_count": 16,
      "outputs": [
        {
          "output_type": "stream",
          "text": [
            "                 precision    recall  f1-score   support\n",
            "\n",
            "    Iris-setosa       1.00      1.00      1.00        11\n",
            "Iris-versicolor       1.00      1.00      1.00        13\n",
            " Iris-virginica       1.00      1.00      1.00         6\n",
            "\n",
            "       accuracy                           1.00        30\n",
            "      macro avg       1.00      1.00      1.00        30\n",
            "   weighted avg       1.00      1.00      1.00        30\n",
            "\n"
          ],
          "name": "stdout"
        }
      ]
    },
    {
      "cell_type": "markdown",
      "metadata": {
        "id": "IZ5X7JY8_nm4",
        "colab_type": "text"
      },
      "source": [
        "Hàm dự đoán loại hoa với đầu vào là 4 thông số chiều dài,chiều rộng của cánh hoa và đài hoa"
      ]
    },
    {
      "cell_type": "code",
      "metadata": {
        "id": "mPAFJ21YLulo",
        "colab_type": "code",
        "colab": {}
      },
      "source": [
        "def Predict_Func(x,y,z,t,model=tuning_model,train=X_train):\n",
        "    arr=[[x,y,z,t]]\n",
        "    pred=model.predict(arr)\n",
        "    print(\"Loai hoa duoc model du doan la: \",pred[0])\n",
        "    print(\"Thank you\")"
      ],
      "execution_count": 17,
      "outputs": []
    },
    {
      "cell_type": "code",
      "metadata": {
        "id": "qFN74091ACq3",
        "colab_type": "code",
        "colab": {
          "base_uri": "https://localhost:8080/",
          "height": 50
        },
        "outputId": "755046b7-948f-4525-f144-452e911f44f8"
      },
      "source": [
        "Predict_Func(6.6,3.0,4.4,1.4)"
      ],
      "execution_count": 18,
      "outputs": [
        {
          "output_type": "stream",
          "text": [
            "Loai hoa duoc model du doan la:  Iris-versicolor\n",
            "Thank you\n"
          ],
          "name": "stdout"
        }
      ]
    },
    {
      "cell_type": "code",
      "metadata": {
        "id": "N1GOadcSAEYE",
        "colab_type": "code",
        "colab": {
          "base_uri": "https://localhost:8080/",
          "height": 1000
        },
        "outputId": "48e2ac72-c77a-423b-cbe1-3cfa0899dd62"
      },
      "source": [
        "X_train"
      ],
      "execution_count": 19,
      "outputs": [
        {
          "output_type": "execute_result",
          "data": {
            "text/plain": [
              "array([[6.1, 3.0, 4.6, 1.4],\n",
              "       [7.7, 3.0, 6.1, 2.3],\n",
              "       [5.6, 2.5, 3.9, 1.1],\n",
              "       [6.4, 2.8, 5.6, 2.1],\n",
              "       [5.8, 2.8, 5.1, 2.4],\n",
              "       [5.3, 3.7, 1.5, 0.2],\n",
              "       [5.5, 2.3, 4.0, 1.3],\n",
              "       [5.2, 3.4, 1.4, 0.2],\n",
              "       [6.5, 2.8, 4.6, 1.5],\n",
              "       [6.7, 2.5, 5.8, 1.8],\n",
              "       [6.8, 3.0, 5.5, 2.1],\n",
              "       [5.1, 3.5, 1.4, 0.3],\n",
              "       [6.0, 2.2, 5.0, 1.5],\n",
              "       [6.3, 2.9, 5.6, 1.8],\n",
              "       [6.6, 2.9, 4.6, 1.3],\n",
              "       [7.7, 2.6, 6.9, 2.3],\n",
              "       [5.7, 3.8, 1.7, 0.3],\n",
              "       [5.0, 3.6, 1.4, 0.2],\n",
              "       [4.8, 3.0, 1.4, 0.3],\n",
              "       [5.2, 2.7, 3.9, 1.4],\n",
              "       [5.1, 3.4, 1.5, 0.2],\n",
              "       [5.5, 3.5, 1.3, 0.2],\n",
              "       [7.7, 3.8, 6.7, 2.2],\n",
              "       [6.9, 3.1, 5.4, 2.1],\n",
              "       [7.3, 2.9, 6.3, 1.8],\n",
              "       [6.4, 2.8, 5.6, 2.2],\n",
              "       [6.2, 2.8, 4.8, 1.8],\n",
              "       [6.0, 3.4, 4.5, 1.6],\n",
              "       [7.7, 2.8, 6.7, 2.0],\n",
              "       [5.7, 3.0, 4.2, 1.2],\n",
              "       [4.8, 3.4, 1.6, 0.2],\n",
              "       [5.7, 2.5, 5.0, 2.0],\n",
              "       [6.3, 2.7, 4.9, 1.8],\n",
              "       [4.8, 3.0, 1.4, 0.1],\n",
              "       [4.7, 3.2, 1.3, 0.2],\n",
              "       [6.5, 3.0, 5.8, 2.2],\n",
              "       [4.6, 3.4, 1.4, 0.3],\n",
              "       [6.1, 3.0, 4.9, 1.8],\n",
              "       [6.5, 3.2, 5.1, 2.0],\n",
              "       [6.7, 3.1, 4.4, 1.4],\n",
              "       [5.7, 2.8, 4.5, 1.3],\n",
              "       [6.7, 3.3, 5.7, 2.5],\n",
              "       [6.0, 3.0, 4.8, 1.8],\n",
              "       [5.1, 3.8, 1.6, 0.2],\n",
              "       [6.0, 2.2, 4.0, 1.0],\n",
              "       [6.4, 2.9, 4.3, 1.3],\n",
              "       [6.5, 3.0, 5.5, 1.8],\n",
              "       [5.0, 2.3, 3.3, 1.0],\n",
              "       [6.3, 3.3, 6.0, 2.5],\n",
              "       [5.5, 2.5, 4.0, 1.3],\n",
              "       [5.4, 3.7, 1.5, 0.2],\n",
              "       [4.9, 3.1, 1.5, 0.1],\n",
              "       [5.2, 4.1, 1.5, 0.1],\n",
              "       [6.7, 3.3, 5.7, 2.1],\n",
              "       [4.4, 3.0, 1.3, 0.2],\n",
              "       [6.0, 2.7, 5.1, 1.6],\n",
              "       [6.4, 2.7, 5.3, 1.9],\n",
              "       [5.9, 3.0, 5.1, 1.8],\n",
              "       [5.2, 3.5, 1.5, 0.2],\n",
              "       [5.1, 3.3, 1.7, 0.5],\n",
              "       [5.8, 2.7, 4.1, 1.0],\n",
              "       [4.9, 3.1, 1.5, 0.1],\n",
              "       [7.4, 2.8, 6.1, 1.9],\n",
              "       [6.2, 2.9, 4.3, 1.3],\n",
              "       [7.6, 3.0, 6.6, 2.1],\n",
              "       [6.7, 3.0, 5.2, 2.3],\n",
              "       [6.3, 2.3, 4.4, 1.3],\n",
              "       [6.2, 3.4, 5.4, 2.3],\n",
              "       [7.2, 3.6, 6.1, 2.5],\n",
              "       [5.6, 2.9, 3.6, 1.3],\n",
              "       [5.7, 4.4, 1.5, 0.4],\n",
              "       [5.8, 2.7, 3.9, 1.2],\n",
              "       [4.5, 2.3, 1.3, 0.3],\n",
              "       [5.5, 2.4, 3.8, 1.1],\n",
              "       [6.9, 3.1, 4.9, 1.5],\n",
              "       [5.0, 3.4, 1.6, 0.4],\n",
              "       [6.8, 2.8, 4.8, 1.4],\n",
              "       [5.0, 3.5, 1.6, 0.6],\n",
              "       [4.8, 3.4, 1.9, 0.2],\n",
              "       [6.3, 3.4, 5.6, 2.4],\n",
              "       [5.6, 2.8, 4.9, 2.0],\n",
              "       [6.8, 3.2, 5.9, 2.3],\n",
              "       [5.0, 3.3, 1.4, 0.2],\n",
              "       [5.1, 3.7, 1.5, 0.4],\n",
              "       [5.9, 3.2, 4.8, 1.8],\n",
              "       [4.6, 3.1, 1.5, 0.2],\n",
              "       [5.8, 2.7, 5.1, 1.9],\n",
              "       [4.8, 3.1, 1.6, 0.2],\n",
              "       [6.5, 3.0, 5.2, 2.0],\n",
              "       [4.9, 2.5, 4.5, 1.7],\n",
              "       [4.6, 3.2, 1.4, 0.2],\n",
              "       [6.4, 3.2, 5.3, 2.3],\n",
              "       [4.3, 3.0, 1.1, 0.1],\n",
              "       [5.6, 3.0, 4.1, 1.3],\n",
              "       [4.4, 2.9, 1.4, 0.2],\n",
              "       [5.5, 2.4, 3.7, 1.0],\n",
              "       [5.0, 2.0, 3.5, 1.0],\n",
              "       [5.1, 3.5, 1.4, 0.2],\n",
              "       [4.9, 3.0, 1.4, 0.2],\n",
              "       [4.9, 2.4, 3.3, 1.0],\n",
              "       [4.6, 3.6, 1.0, 0.2],\n",
              "       [5.9, 3.0, 4.2, 1.5],\n",
              "       [6.1, 2.9, 4.7, 1.4],\n",
              "       [5.0, 3.4, 1.5, 0.2],\n",
              "       [6.7, 3.1, 4.7, 1.5],\n",
              "       [5.7, 2.9, 4.2, 1.3],\n",
              "       [6.2, 2.2, 4.5, 1.5],\n",
              "       [7.0, 3.2, 4.7, 1.4],\n",
              "       [5.8, 2.7, 5.1, 1.9],\n",
              "       [5.4, 3.4, 1.7, 0.2],\n",
              "       [5.0, 3.0, 1.6, 0.2],\n",
              "       [6.1, 2.6, 5.6, 1.4],\n",
              "       [6.1, 2.8, 4.0, 1.3],\n",
              "       [7.2, 3.0, 5.8, 1.6],\n",
              "       [5.7, 2.6, 3.5, 1.0],\n",
              "       [6.3, 2.8, 5.1, 1.5],\n",
              "       [6.4, 3.1, 5.5, 1.8],\n",
              "       [6.3, 2.5, 4.9, 1.5],\n",
              "       [6.7, 3.1, 5.6, 2.4],\n",
              "       [4.9, 3.1, 1.5, 0.1]], dtype=object)"
            ]
          },
          "metadata": {
            "tags": []
          },
          "execution_count": 19
        }
      ]
    }
  ]
}