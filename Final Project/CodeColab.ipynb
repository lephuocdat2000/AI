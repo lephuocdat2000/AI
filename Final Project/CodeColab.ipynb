{
  "nbformat": 4,
  "nbformat_minor": 0,
  "metadata": {
    "colab": {
      "name": " Final_Project.ipynb",
      "provenance": [],
      "collapsed_sections": [],
      "include_colab_link": true
    },
    "kernelspec": {
      "name": "python3",
      "display_name": "Python 3"
    }
  },
  "cells": [
    {
      "cell_type": "markdown",
      "metadata": {
        "id": "view-in-github",
        "colab_type": "text"
      },
      "source": [
        "<a href=\"https://colab.research.google.com/github/lephuocdat2000/AI/blob/master/Final_Project.ipynb\" target=\"_parent\"><img src=\"https://colab.research.google.com/assets/colab-badge.svg\" alt=\"Open In Colab\"/></a>"
      ]
    },
    {
      "cell_type": "markdown",
      "metadata": {
        "id": "uP6uibo5ZVvs",
        "colab_type": "text"
      },
      "source": [
        "**Khai Báo Thư Viện**"
      ]
    },
    {
      "cell_type": "code",
      "metadata": {
        "id": "bRK_RPenv6Pc",
        "colab_type": "code",
        "colab": {
          "base_uri": "https://localhost:8080/",
          "height": 70
        },
        "outputId": "73e5f250-b981-476e-ca56-7b03c1dd2c80"
      },
      "source": [
        "import numpy as np\n",
        "import matplotlib \n",
        "import matplotlib.pyplot as plt\n",
        "import pandas as pd\n",
        "from pandas.plotting import scatter_matrix\n",
        "from matplotlib import pyplot\n",
        "import seaborn as sns; sns.set()"
      ],
      "execution_count": 1,
      "outputs": [
        {
          "output_type": "stream",
          "text": [
            "/usr/local/lib/python3.6/dist-packages/statsmodels/tools/_testing.py:19: FutureWarning: pandas.util.testing is deprecated. Use the functions in the public API at pandas.testing instead.\n",
            "  import pandas.util.testing as tm\n"
          ],
          "name": "stderr"
        }
      ]
    },
    {
      "cell_type": "markdown",
      "metadata": {
        "id": "9qeAhInNZedt",
        "colab_type": "text"
      },
      "source": [
        "**Tải Bộ Dữ Liệu Lên**"
      ]
    },
    {
      "cell_type": "code",
      "metadata": {
        "id": "zietDhUdwyf6",
        "colab_type": "code",
        "colab": {
          "base_uri": "https://localhost:8080/",
          "height": 268
        },
        "outputId": "25c24470-dc52-4855-a331-eebd8ade7a81"
      },
      "source": [
        "url = \"https://raw.githubusercontent.com/jbrownlee/Datasets/master/iris.csv\"\n",
        "names = ['sepal-length', 'sepal-width', 'petal-length', 'petal-width', 'class']\n",
        "dataset = pd.read_csv(url, names=names)  #đọc dữ liệu\n",
        "\n",
        "# Ma Trận Dữ Liệu và 5 Phần Tử Đầu\n",
        "print(dataset.shape)\n",
        "print(dataset)\n",
        "# Mô Tả Dữ Liệu"
      ],
      "execution_count": 2,
      "outputs": [
        {
          "output_type": "stream",
          "text": [
            "(150, 5)\n",
            "     sepal-length  sepal-width  petal-length  petal-width           class\n",
            "0             5.1          3.5           1.4          0.2     Iris-setosa\n",
            "1             4.9          3.0           1.4          0.2     Iris-setosa\n",
            "2             4.7          3.2           1.3          0.2     Iris-setosa\n",
            "3             4.6          3.1           1.5          0.2     Iris-setosa\n",
            "4             5.0          3.6           1.4          0.2     Iris-setosa\n",
            "..            ...          ...           ...          ...             ...\n",
            "145           6.7          3.0           5.2          2.3  Iris-virginica\n",
            "146           6.3          2.5           5.0          1.9  Iris-virginica\n",
            "147           6.5          3.0           5.2          2.0  Iris-virginica\n",
            "148           6.2          3.4           5.4          2.3  Iris-virginica\n",
            "149           5.9          3.0           5.1          1.8  Iris-virginica\n",
            "\n",
            "[150 rows x 5 columns]\n"
          ],
          "name": "stdout"
        }
      ]
    },
    {
      "cell_type": "code",
      "metadata": {
        "id": "7iqEC6EZBtsm",
        "colab_type": "code",
        "colab": {
          "base_uri": "https://localhost:8080/",
          "height": 251
        },
        "outputId": "f4696048-3953-45fb-ccf4-a0ab95f67d7d"
      },
      "source": [
        "print(dataset.describe())\n",
        "print(dataset.groupby('class').size())"
      ],
      "execution_count": 3,
      "outputs": [
        {
          "output_type": "stream",
          "text": [
            "       sepal-length  sepal-width  petal-length  petal-width\n",
            "count    150.000000   150.000000    150.000000   150.000000\n",
            "mean       5.843333     3.054000      3.758667     1.198667\n",
            "std        0.828066     0.433594      1.764420     0.763161\n",
            "min        4.300000     2.000000      1.000000     0.100000\n",
            "25%        5.100000     2.800000      1.600000     0.300000\n",
            "50%        5.800000     3.000000      4.350000     1.300000\n",
            "75%        6.400000     3.300000      5.100000     1.800000\n",
            "max        7.900000     4.400000      6.900000     2.500000\n",
            "class\n",
            "Iris-setosa        50\n",
            "Iris-versicolor    50\n",
            "Iris-virginica     50\n",
            "dtype: int64\n"
          ],
          "name": "stdout"
        }
      ]
    },
    {
      "cell_type": "code",
      "metadata": {
        "id": "mKuztYZP8H7o",
        "colab_type": "code",
        "colab": {
          "base_uri": "https://localhost:8080/",
          "height": 196
        },
        "outputId": "7adad450-631a-498f-c640-9811121fb72a"
      },
      "source": [
        "hide_data=dataset.iloc[145:150,:]\n",
        "hide_data #bộ dữ liệu để dự đoán"
      ],
      "execution_count": 4,
      "outputs": [
        {
          "output_type": "execute_result",
          "data": {
            "text/html": [
              "<div>\n",
              "<style scoped>\n",
              "    .dataframe tbody tr th:only-of-type {\n",
              "        vertical-align: middle;\n",
              "    }\n",
              "\n",
              "    .dataframe tbody tr th {\n",
              "        vertical-align: top;\n",
              "    }\n",
              "\n",
              "    .dataframe thead th {\n",
              "        text-align: right;\n",
              "    }\n",
              "</style>\n",
              "<table border=\"1\" class=\"dataframe\">\n",
              "  <thead>\n",
              "    <tr style=\"text-align: right;\">\n",
              "      <th></th>\n",
              "      <th>sepal-length</th>\n",
              "      <th>sepal-width</th>\n",
              "      <th>petal-length</th>\n",
              "      <th>petal-width</th>\n",
              "      <th>class</th>\n",
              "    </tr>\n",
              "  </thead>\n",
              "  <tbody>\n",
              "    <tr>\n",
              "      <th>145</th>\n",
              "      <td>6.7</td>\n",
              "      <td>3.0</td>\n",
              "      <td>5.2</td>\n",
              "      <td>2.3</td>\n",
              "      <td>Iris-virginica</td>\n",
              "    </tr>\n",
              "    <tr>\n",
              "      <th>146</th>\n",
              "      <td>6.3</td>\n",
              "      <td>2.5</td>\n",
              "      <td>5.0</td>\n",
              "      <td>1.9</td>\n",
              "      <td>Iris-virginica</td>\n",
              "    </tr>\n",
              "    <tr>\n",
              "      <th>147</th>\n",
              "      <td>6.5</td>\n",
              "      <td>3.0</td>\n",
              "      <td>5.2</td>\n",
              "      <td>2.0</td>\n",
              "      <td>Iris-virginica</td>\n",
              "    </tr>\n",
              "    <tr>\n",
              "      <th>148</th>\n",
              "      <td>6.2</td>\n",
              "      <td>3.4</td>\n",
              "      <td>5.4</td>\n",
              "      <td>2.3</td>\n",
              "      <td>Iris-virginica</td>\n",
              "    </tr>\n",
              "    <tr>\n",
              "      <th>149</th>\n",
              "      <td>5.9</td>\n",
              "      <td>3.0</td>\n",
              "      <td>5.1</td>\n",
              "      <td>1.8</td>\n",
              "      <td>Iris-virginica</td>\n",
              "    </tr>\n",
              "  </tbody>\n",
              "</table>\n",
              "</div>"
            ],
            "text/plain": [
              "     sepal-length  sepal-width  petal-length  petal-width           class\n",
              "145           6.7          3.0           5.2          2.3  Iris-virginica\n",
              "146           6.3          2.5           5.0          1.9  Iris-virginica\n",
              "147           6.5          3.0           5.2          2.0  Iris-virginica\n",
              "148           6.2          3.4           5.4          2.3  Iris-virginica\n",
              "149           5.9          3.0           5.1          1.8  Iris-virginica"
            ]
          },
          "metadata": {
            "tags": []
          },
          "execution_count": 4
        }
      ]
    },
    {
      "cell_type": "markdown",
      "metadata": {
        "id": "cZnUKcurZpn9",
        "colab_type": "text"
      },
      "source": [
        "**Phân Tách Bộ Dữ Liệu và Tách Phân Lớp Class Khỏi Nhóm Hoa Iris** sử dụng train_test_split từ sklearn"
      ]
    },
    {
      "cell_type": "code",
      "metadata": {
        "id": "yxIi00rVZo2R",
        "colab_type": "code",
        "colab": {}
      },
      "source": [
        "from sklearn.model_selection import train_test_split\n",
        "array = dataset.iloc[0:145,:].values\n",
        "X = array[:,0:4]\n",
        "y = array[:,4]\n",
        "X_train, X_validation, Y_train, Y_validation = train_test_split(X, y, test_size=0.3, random_state=1, shuffle=True)"
      ],
      "execution_count": 5,
      "outputs": []
    },
    {
      "cell_type": "markdown",
      "metadata": {
        "id": "H6aII--tDT38",
        "colab_type": "text"
      },
      "source": [
        "Dùng biểu đồ để xem mối quan hệ giữa các đại lượng"
      ]
    },
    {
      "cell_type": "code",
      "metadata": {
        "id": "g21Bh61EK_Oh",
        "colab_type": "code",
        "colab": {
          "base_uri": "https://localhost:8080/",
          "height": 298
        },
        "outputId": "6c236a4f-6891-4bd8-b723-58901f02e3d1"
      },
      "source": [
        "scatter_matrix(dataset)\n",
        "plt.show()"
      ],
      "execution_count": 6,
      "outputs": [
        {
          "output_type": "display_data",
          "data": {
            "image/png": "[encoded data removed]",
            "text/plain": [
              "<Figure size 432x288 with 16 Axes>"
            ]
          },
          "metadata": {
            "tags": [],
            "needs_background": "light"
          }
        }
      ]
    },
    {
      "cell_type": "markdown",
      "metadata": {
        "id": "DB_ZI06HZ9BT",
        "colab_type": "text"
      },
      "source": [
        "**Thực Hiện Việc Kiểm Tra Và Đánh Giá Các Mô Hình Lên Hoa Iris** bằng các thuật toán classification cơ bản do sklearn hỗ trợ"
      ]
    },
    {
      "cell_type": "code",
      "metadata": {
        "id": "ElO1hUxOxzD6",
        "colab_type": "code",
        "colab": {
          "base_uri": "https://localhost:8080/",
          "height": 117
        },
        "outputId": "0a41496f-13ca-4f06-b0af-18d7361eba3d"
      },
      "source": [
        "# Logistic Regression\n",
        "from sklearn.linear_model import LogisticRegression\n",
        "# Decision Tree & Random Forest\n",
        "from sklearn.tree import DecisionTreeClassifier\n",
        "from sklearn.ensemble import RandomForestClassifier\n",
        "# K-NN\n",
        "from sklearn.neighbors import KNeighborsClassifier\n",
        "# Gausian Naive Bayes\n",
        "from sklearn.naive_bayes import GaussianNB\n",
        "# SVM\n",
        "from sklearn.svm import SVC\n",
        "models = []\n",
        "models.append(('LR', LogisticRegression(solver='liblinear', multi_class='ovr')))\n",
        "models.append(('KNN', KNeighborsClassifier()))\n",
        "models.append(('RF', RandomForestClassifier()))\n",
        "models.append(('DTC', DecisionTreeClassifier()))\n",
        "models.append(('NB', GaussianNB()))\n",
        "models.append(('SVM', SVC(gamma='auto')))\n",
        "\n",
        "# Đánh Giá Mô Hình bằng phương pháp đánh giá chéo\n",
        "from sklearn.model_selection import cross_val_score\n",
        "results = []\n",
        "names = []\n",
        "for name, model in models:\n",
        "  \tcv_results = cross_val_score(model, X_train, Y_train, cv=10, scoring='accuracy')\n",
        "  \tresults.append(cv_results)\n",
        "  \tnames.append(name)\n",
        "  \tprint(name, cv_results.mean())  #cv_results.mean: trung bình hiệu suất của 10 lần fold"
      ],
      "execution_count": 7,
      "outputs": [
        {
          "output_type": "stream",
          "text": [
            "LR 0.9509090909090909\n",
            "KNN 0.96\n",
            "RF 0.93\n",
            "DTC 0.9400000000000001\n",
            "NB 0.9400000000000001\n",
            "SVM 0.97\n"
          ],
          "name": "stdout"
        }
      ]
    },
    {
      "cell_type": "code",
      "metadata": {
        "id": "jX0Zks4f1yDk",
        "colab_type": "code",
        "colab": {
          "base_uri": "https://localhost:8080/",
          "height": 284
        },
        "outputId": "40a39e80-8c5c-46f8-c5a8-3a0d97e3cafe"
      },
      "source": [
        "# Compare Algorithms\n",
        "pyplot.boxplot(results, labels=names)\n",
        "pyplot.title('Algorithm Comparison')\n",
        "pyplot.show()"
      ],
      "execution_count": 8,
      "outputs": [
        {
          "output_type": "display_data",
          "data": {
            "image/png": "[encoded data removed]",
            "text/plain": [
              "<Figure size 432x288 with 1 Axes>"
            ]
          },
          "metadata": {
            "tags": [],
            "needs_background": "light"
          }
        }
      ]
    },
    {
      "cell_type": "markdown",
      "metadata": {
        "id": "2Al0P6tx2HJe",
        "colab_type": "text"
      },
      "source": [
        "Ta thấy rằng đa số các model đều có sự giao động về độ chính xác sau 10 lần đánh giá chéo chỉ có SVM là luôn đạt độ chính xác ở mức cao nhất => SVM phù hợp với bộ dữ liệu này"
      ]
    },
    {
      "cell_type": "markdown",
      "metadata": {
        "id": "fNE-lWuIuUtL",
        "colab_type": "text"
      },
      "source": [
        "\n",
        "\n",
        "---\n",
        "\n"
      ]
    },
    {
      "cell_type": "markdown",
      "metadata": {
        "id": "ZYD9gz6Buq0p",
        "colab_type": "text"
      },
      "source": [
        "Tiến hành train model bằng thuật toán SVM"
      ]
    },
    {
      "cell_type": "code",
      "metadata": {
        "id": "72CLG91hyDaT",
        "colab_type": "code",
        "colab": {
          "base_uri": "https://localhost:8080/",
          "height": 33
        },
        "outputId": "2e0d394a-98de-4e04-d28a-b96c5435a1df"
      },
      "source": [
        "# Kiểm Chứng Dự Đoán Lên Bộ Dữ Liệu Đánh Giá\n",
        "from sklearn.metrics import accuracy_score\n",
        "model = SVC(gamma='auto')\n",
        "model.fit(X_train, Y_train)\n",
        "predictions = model.predict(X_validation)\n",
        "print(accuracy_score(Y_validation, predictions))"
      ],
      "execution_count": 9,
      "outputs": [
        {
          "output_type": "stream",
          "text": [
            "0.9772727272727273\n"
          ],
          "name": "stdout"
        }
      ]
    },
    {
      "cell_type": "markdown",
      "metadata": {
        "id": "VoGBTM3N23hu",
        "colab_type": "text"
      },
      "source": [
        "accuracy_score: số lượng dự đoán đúng / tổng số mẫu dự đoán\n"
      ]
    },
    {
      "cell_type": "markdown",
      "metadata": {
        "id": "fBFbp3C95RUj",
        "colab_type": "text"
      },
      "source": [
        "Biểu diễn kết quả dự đoán dưới dạng confusion matrix"
      ]
    },
    {
      "cell_type": "code",
      "metadata": {
        "id": "ETzxt1StvUFy",
        "colab_type": "code",
        "colab": {
          "base_uri": "https://localhost:8080/",
          "height": 302
        },
        "outputId": "0716cb2c-fa7d-47f2-8d4f-add8f8668cb0"
      },
      "source": [
        "from sklearn.metrics import confusion_matrix\n",
        "target_names=['Iris-setosa','Iris-versicolor','Iris-virginica']\n",
        "mat=confusion_matrix(Y_validation,predictions)\n",
        "sns.heatmap(mat,square=True,annot=True,cbar=False,xticklabels=target_names,yticklabels=target_names)\n",
        "plt.xlabel('true label')\n",
        "plt.ylabel('predicted label')"
      ],
      "execution_count": 10,
      "outputs": [
        {
          "output_type": "execute_result",
          "data": {
            "text/plain": [
              "Text(89.18, 0.5, 'predicted label')"
            ]
          },
          "metadata": {
            "tags": []
          },
          "execution_count": 10
        },
        {
          "output_type": "display_data",
          "data": {
            "image/png": "[encoded data removed]",
            "text/plain": [
              "<Figure size 432x288 with 1 Axes>"
            ]
          },
          "metadata": {
            "tags": [],
            "needs_background": "light"
          }
        }
      ]
    },
    {
      "cell_type": "markdown",
      "metadata": {
        "id": "r77IQt1r5yfr",
        "colab_type": "text"
      },
      "source": [
        "Đánh giá f1-score"
      ]
    },
    {
      "cell_type": "code",
      "metadata": {
        "id": "T7XoNn9Y2v-t",
        "colab_type": "code",
        "colab": {
          "base_uri": "https://localhost:8080/",
          "height": 184
        },
        "outputId": "fc4b3786-5d8f-4f8b-9a36-c57ee603c32e"
      },
      "source": [
        "from sklearn.metrics import classification_report\n",
        "print(classification_report(Y_validation, predictions))"
      ],
      "execution_count": 11,
      "outputs": [
        {
          "output_type": "stream",
          "text": [
            "                 precision    recall  f1-score   support\n",
            "\n",
            "    Iris-setosa       1.00      1.00      1.00        19\n",
            "Iris-versicolor       0.93      1.00      0.97        14\n",
            " Iris-virginica       1.00      0.91      0.95        11\n",
            "\n",
            "       accuracy                           0.98        44\n",
            "      macro avg       0.98      0.97      0.97        44\n",
            "   weighted avg       0.98      0.98      0.98        44\n",
            "\n"
          ],
          "name": "stdout"
        }
      ]
    },
    {
      "cell_type": "markdown",
      "metadata": {
        "id": "hLzAIfreE646",
        "colab_type": "text"
      },
      "source": [
        "f1-score rất cao tuy nhiên vẫn còn cải thiện được"
      ]
    },
    {
      "cell_type": "markdown",
      "metadata": {
        "id": "1jQiK2uI_K0f",
        "colab_type": "text"
      },
      "source": [
        "Tuning Hyperparameter sử dụng GridSearchCV do sklearn cung cấp"
      ]
    },
    {
      "cell_type": "code",
      "metadata": {
        "id": "LFPifPjB59H6",
        "colab_type": "code",
        "colab": {
          "base_uri": "https://localhost:8080/",
          "height": 33
        },
        "outputId": "7fb30cd5-f798-41f5-b028-c3ff05fd1ee0"
      },
      "source": [
        "from sklearn.model_selection import GridSearchCV\n",
        "param_grid={\n",
        "             'kernel':['linear','rbf','poly'],\n",
        "            }\n",
        "search=GridSearchCV(model,param_grid,n_jobs=-1)\n",
        "search.fit(X_validation,Y_validation)\n",
        "search.best_params_"
      ],
      "execution_count": 12,
      "outputs": [
        {
          "output_type": "execute_result",
          "data": {
            "text/plain": [
              "{'kernel': 'poly'}"
            ]
          },
          "metadata": {
            "tags": []
          },
          "execution_count": 12
        }
      ]
    },
    {
      "cell_type": "markdown",
      "metadata": {
        "id": "UJR-Kgwj_RE5",
        "colab_type": "text"
      },
      "source": [
        "GridSearch chọn kernel = poly để model đạt hiệu suất tốt nhất"
      ]
    },
    {
      "cell_type": "markdown",
      "metadata": {
        "id": "rXzveKQn_b_C",
        "colab_type": "text"
      },
      "source": [
        "Tiến hành train và đánh lại model với tham số kernel thay đổi"
      ]
    },
    {
      "cell_type": "code",
      "metadata": {
        "id": "5wEt1rDI-9Lg",
        "colab_type": "code",
        "colab": {
          "base_uri": "https://localhost:8080/",
          "height": 33
        },
        "outputId": "422702ed-bc5e-4b1b-9fef-90f5115a883d"
      },
      "source": [
        "tuning_model = SVC(gamma='auto',kernel='poly')\n",
        "tuning_model.fit(X_train, Y_train)\n",
        "predictions = tuning_model.predict(X_validation)\n",
        "print(accuracy_score(Y_validation, predictions))"
      ],
      "execution_count": 13,
      "outputs": [
        {
          "output_type": "stream",
          "text": [
            "1.0\n"
          ],
          "name": "stdout"
        }
      ]
    },
    {
      "cell_type": "code",
      "metadata": {
        "id": "1mAHQJJz_hrR",
        "colab_type": "code",
        "colab": {
          "base_uri": "https://localhost:8080/",
          "height": 184
        },
        "outputId": "441523d0-361a-4745-f6bf-f7f3b00a5c67"
      },
      "source": [
        "print(classification_report(Y_validation, predictions))"
      ],
      "execution_count": 14,
      "outputs": [
        {
          "output_type": "stream",
          "text": [
            "                 precision    recall  f1-score   support\n",
            "\n",
            "    Iris-setosa       1.00      1.00      1.00        19\n",
            "Iris-versicolor       1.00      1.00      1.00        14\n",
            " Iris-virginica       1.00      1.00      1.00        11\n",
            "\n",
            "       accuracy                           1.00        44\n",
            "      macro avg       1.00      1.00      1.00        44\n",
            "   weighted avg       1.00      1.00      1.00        44\n",
            "\n"
          ],
          "name": "stdout"
        }
      ]
    },
    {
      "cell_type": "markdown",
      "metadata": {
        "id": "IZ5X7JY8_nm4",
        "colab_type": "text"
      },
      "source": [
        "Hàm dự đoán loại hoa với đầu vào là 4 thông số chiều dài,chiều rộng của cánh hoa và đài hoa"
      ]
    },
    {
      "cell_type": "code",
      "metadata": {
        "id": "mPAFJ21YLulo",
        "colab_type": "code",
        "colab": {}
      },
      "source": [
        "def Predict_Func(x,y,z,t,model=tuning_model,train=X_train):\n",
        "    arr=[[x,y,z,t]]\n",
        "    pred=model.predict(arr)\n",
        "    print(\"Loai hoa duoc model du doan la: \",pred[0])\n",
        "    print(\"Thank you\")"
      ],
      "execution_count": 15,
      "outputs": []
    },
    {
      "cell_type": "code",
      "metadata": {
        "id": "qFN74091ACq3",
        "colab_type": "code",
        "colab": {
          "base_uri": "https://localhost:8080/",
          "height": 196
        },
        "outputId": "3f7e8099-82af-4246-b6e0-449a75f11919"
      },
      "source": [
        "hide_data"
      ],
      "execution_count": 16,
      "outputs": [
        {
          "output_type": "execute_result",
          "data": {
            "text/html": [
              "<div>\n",
              "<style scoped>\n",
              "    .dataframe tbody tr th:only-of-type {\n",
              "        vertical-align: middle;\n",
              "    }\n",
              "\n",
              "    .dataframe tbody tr th {\n",
              "        vertical-align: top;\n",
              "    }\n",
              "\n",
              "    .dataframe thead th {\n",
              "        text-align: right;\n",
              "    }\n",
              "</style>\n",
              "<table border=\"1\" class=\"dataframe\">\n",
              "  <thead>\n",
              "    <tr style=\"text-align: right;\">\n",
              "      <th></th>\n",
              "      <th>sepal-length</th>\n",
              "      <th>sepal-width</th>\n",
              "      <th>petal-length</th>\n",
              "      <th>petal-width</th>\n",
              "      <th>class</th>\n",
              "    </tr>\n",
              "  </thead>\n",
              "  <tbody>\n",
              "    <tr>\n",
              "      <th>145</th>\n",
              "      <td>6.7</td>\n",
              "      <td>3.0</td>\n",
              "      <td>5.2</td>\n",
              "      <td>2.3</td>\n",
              "      <td>Iris-virginica</td>\n",
              "    </tr>\n",
              "    <tr>\n",
              "      <th>146</th>\n",
              "      <td>6.3</td>\n",
              "      <td>2.5</td>\n",
              "      <td>5.0</td>\n",
              "      <td>1.9</td>\n",
              "      <td>Iris-virginica</td>\n",
              "    </tr>\n",
              "    <tr>\n",
              "      <th>147</th>\n",
              "      <td>6.5</td>\n",
              "      <td>3.0</td>\n",
              "      <td>5.2</td>\n",
              "      <td>2.0</td>\n",
              "      <td>Iris-virginica</td>\n",
              "    </tr>\n",
              "    <tr>\n",
              "      <th>148</th>\n",
              "      <td>6.2</td>\n",
              "      <td>3.4</td>\n",
              "      <td>5.4</td>\n",
              "      <td>2.3</td>\n",
              "      <td>Iris-virginica</td>\n",
              "    </tr>\n",
              "    <tr>\n",
              "      <th>149</th>\n",
              "      <td>5.9</td>\n",
              "      <td>3.0</td>\n",
              "      <td>5.1</td>\n",
              "      <td>1.8</td>\n",
              "      <td>Iris-virginica</td>\n",
              "    </tr>\n",
              "  </tbody>\n",
              "</table>\n",
              "</div>"
            ],
            "text/plain": [
              "     sepal-length  sepal-width  petal-length  petal-width           class\n",
              "145           6.7          3.0           5.2          2.3  Iris-virginica\n",
              "146           6.3          2.5           5.0          1.9  Iris-virginica\n",
              "147           6.5          3.0           5.2          2.0  Iris-virginica\n",
              "148           6.2          3.4           5.4          2.3  Iris-virginica\n",
              "149           5.9          3.0           5.1          1.8  Iris-virginica"
            ]
          },
          "metadata": {
            "tags": []
          },
          "execution_count": 16
        }
      ]
    },
    {
      "cell_type": "code",
      "metadata": {
        "id": "cPytQhySBGCy",
        "colab_type": "code",
        "colab": {
          "base_uri": "https://localhost:8080/",
          "height": 50
        },
        "outputId": "94194b7f-d398-4dfa-c128-e73f4a2e1ffa"
      },
      "source": [
        "Predict_Func(6.5,3.0,5.2,2.0)"
      ],
      "execution_count": 17,
      "outputs": [
        {
          "output_type": "stream",
          "text": [
            "Loai hoa duoc model du doan la:  Iris-virginica\n",
            "Thank you\n"
          ],
          "name": "stdout"
        }
      ]
    },
    {
      "cell_type": "markdown",
      "metadata": {
        "id": "H4l6CcPC8Myb",
        "colab_type": "text"
      },
      "source": [
        "**Mô tả chức năng hàm**"
      ]
    },
    {
      "cell_type": "markdown",
      "metadata": {
        "id": "12_8Uhuo8Jwn",
        "colab_type": "text"
      },
      "source": [
        "Hàm pd.read_csv(url,names=names): đọc data từ đường link url dưới dạng file csv "
      ]
    },
    {
      "cell_type": "markdown",
      "metadata": {
        "id": "V0L6sN_j8YcA",
        "colab_type": "text"
      },
      "source": [
        "dataset.describe() : mô tả về dataset bằng các giá trị"
      ]
    },
    {
      "cell_type": "markdown",
      "metadata": {
        "id": "ZDqAJEXb8eaV",
        "colab_type": "text"
      },
      "source": [
        "dataset.groupby('class').size(): nhóm các loại hoa với nhau và đưa ra số lượng mỗi loại"
      ]
    },
    {
      "cell_type": "code",
      "metadata": {
        "id": "tH9APX1Q80Jq",
        "colab_type": "code",
        "colab": {}
      },
      "source": [
        ""
      ],
      "execution_count": null,
      "outputs": []
    },
    {
      "cell_type": "markdown",
      "metadata": {
        "id": "AI_9quc38ia2",
        "colab_type": "text"
      },
      "source": [
        "dataset.iloc[145:150,:]: lấy data từ dataframe hide_data từ index 145 đến 149 theo toàn bộ giá trị cột."
      ]
    },
    {
      "cell_type": "markdown",
      "metadata": {
        "id": "YjA8tPGB8qQ8",
        "colab_type": "text"
      },
      "source": [
        "Hàm train_test_split để chia tỉ lệ bộ train,test theo tỉ lệ tùy chọn"
      ]
    },
    {
      "cell_type": "markdown",
      "metadata": {
        "id": "7Ad7pHDO8zIh",
        "colab_type": "text"
      },
      "source": [
        "scatter_matrix(): biểu diễn dữ liệu theo ma trận scatter ( ma trận biểu diễn quan hệ theo từng cặp giá trị)\n"
      ]
    },
    {
      "cell_type": "markdown",
      "metadata": {
        "id": "pHmMoEh381mo",
        "colab_type": "text"
      },
      "source": [
        "plt.show() : visualize ma trận "
      ]
    },
    {
      "cell_type": "markdown",
      "metadata": {
        "id": "lVZ47hfG89C2",
        "colab_type": "text"
      },
      "source": [
        "models.append() : thêm các model vào mảng models\n"
      ]
    },
    {
      "cell_type": "markdown",
      "metadata": {
        "id": "yvlnavTL8-Qc",
        "colab_type": "text"
      },
      "source": [
        "cross_val_score(): tiến hành đánh giá chéo theo số lần tùy chọn và cho ra kết quả theo mỗi lần đánh giá"
      ]
    },
    {
      "cell_type": "markdown",
      "metadata": {
        "id": "ROalXz2R9Fx0",
        "colab_type": "text"
      },
      "source": [
        "boxplot(): biển diễn dữ liệu theo biểu đồ hộp\n"
      ]
    },
    {
      "cell_type": "markdown",
      "metadata": {
        "id": "Pe6P7Leh9HYg",
        "colab_type": "text"
      },
      "source": [
        "pyplot.title() : đặt tên cho biểu đồ"
      ]
    },
    {
      "cell_type": "markdown",
      "metadata": {
        "id": "WjoZz3am9Vjo",
        "colab_type": "text"
      },
      "source": [
        "model.fit(): đào tạo model \n",
        "\n"
      ]
    },
    {
      "cell_type": "markdown",
      "metadata": {
        "id": "_VTIlI1y9XyL",
        "colab_type": "text"
      },
      "source": [
        "model.predict(): dự đoán kết quả với bộ dữ liệu tương ứng"
      ]
    },
    {
      "cell_type": "markdown",
      "metadata": {
        "id": "ngwOIcmh9ZNz",
        "colab_type": "text"
      },
      "source": [
        "accuracy_score(): số lần dự đoán đúng / tổng phần tử dự đoán => đánh giá hiệu suất model "
      ]
    },
    {
      "cell_type": "markdown",
      "metadata": {
        "id": "EJC0xX8S9d6d",
        "colab_type": "text"
      },
      "source": [
        "confusion_matrix() : biểu diễn số lượng đặc trưng giống và khác nhau giữa 2 bộ dữ liệu\n",
        "\n"
      ]
    },
    {
      "cell_type": "markdown",
      "metadata": {
        "id": "AIHBOCXX9e9M",
        "colab_type": "text"
      },
      "source": [
        "sns.heatmap(): visualize các giá trị ma trận "
      ]
    },
    {
      "cell_type": "markdown",
      "metadata": {
        "id": "7amNTuaL9qVP",
        "colab_type": "text"
      },
      "source": [
        "plt.xlabel(): đặt tên cho trục x\n"
      ]
    },
    {
      "cell_type": "markdown",
      "metadata": {
        "id": "8QP65OnF9sjc",
        "colab_type": "text"
      },
      "source": [
        "plt.ylabel(): đặt tên cho trục y"
      ]
    },
    {
      "cell_type": "markdown",
      "metadata": {
        "id": "13XnYsDW9wzh",
        "colab_type": "text"
      },
      "source": [
        "classification_report(): tính toán các giá trị precision,recall,f1-score theo từng feature của 2 bộ dữ liệu => đánh giá độ chính xác của model"
      ]
    },
    {
      "cell_type": "markdown",
      "metadata": {
        "id": "xQdJqCo691lu",
        "colab_type": "text"
      },
      "source": [
        "GridSearchCV(): đánh giá và lựa chọn các tham số được cung cấp để tìm ra tham số làm cho model đạt hiệu suất cao nhất "
      ]
    },
    {
      "cell_type": "markdown",
      "metadata": {
        "id": "xStMk3F2-KdL",
        "colab_type": "text"
      },
      "source": [
        "GridSearchCV().best_params_ : in ra tham số được chọn sau khi thực hiện hàm GridSearchCV()"
      ]
    }
  ]
}