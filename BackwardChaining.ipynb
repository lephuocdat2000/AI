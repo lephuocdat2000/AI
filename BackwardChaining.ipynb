{
  "nbformat": 4,
  "nbformat_minor": 0,
  "metadata": {
    "colab": {
      "name": "BackwardChaining.ipynb",
      "provenance": [],
      "authorship_tag": "ABX9TyN03MmtU6Wv9132ZfLUVuQS",
      "include_colab_link": true
    },
    "kernelspec": {
      "name": "python3",
      "display_name": "Python 3"
    }
  },
  "cells": [
    {
      "cell_type": "markdown",
      "metadata": {
        "id": "view-in-github",
        "colab_type": "text"
      },
      "source": [
        "<a href=\"https://colab.research.google.com/github/lephuocdat2000/AI/blob/master/BackwardChaining.ipynb\" target=\"_parent\"><img src=\"https://colab.research.google.com/assets/colab-badge.svg\" alt=\"Open In Colab\"/></a>"
      ]
    },
    {
      "cell_type": "code",
      "metadata": {
        "id": "3Cr21Y1J_8Wz",
        "colab_type": "code",
        "colab": {
          "base_uri": "https://localhost:8080/",
          "height": 120
        },
        "outputId": "cdd1729b-a076-4f0a-b45a-8d8968aa67d9"
      },
      "source": [
        "from google.colab import drive\n",
        "import copy\n",
        "drive.mount('/content/drive')"
      ],
      "execution_count": 1,
      "outputs": [
        {
          "output_type": "stream",
          "text": [
            "Go to this URL in a browser: https://accounts.google.com/o/oauth2/auth?client_id=947318989803-6bn6qk8qdgf4n4g3pfee6491hc0brc4i.apps.googleusercontent.com&redirect_uri=urn%3aietf%3awg%3aoauth%3a2.0%3aoob&response_type=code&scope=email%20https%3a%2f%2fwww.googleapis.com%2fauth%2fdocs.test%20https%3a%2f%2fwww.googleapis.com%2fauth%2fdrive%20https%3a%2f%2fwww.googleapis.com%2fauth%2fdrive.photos.readonly%20https%3a%2f%2fwww.googleapis.com%2fauth%2fpeopleapi.readonly\n",
            "\n",
            "Enter your authorization code:\n",
            "··········\n",
            "Mounted at /content/drive\n"
          ],
          "name": "stdout"
        }
      ]
    },
    {
      "cell_type": "code",
      "metadata": {
        "id": "qe02RSDfAOup",
        "colab_type": "code",
        "colab": {}
      },
      "source": [
        "def DocFile():\n",
        "  f1=open('/content/drive/My Drive/foward chaining/Rules.txt','r')\n",
        "  f2=open('/content/drive/My Drive/foward chaining/Hypothesis.txt','r')\n",
        "  f3=open('/content/drive/My Drive/foward chaining/Target.txt','r')\n",
        "  Program=f1.readlines()\n",
        "  facts=f2.readlines()\n",
        "  target_arr=f3.readlines()\n",
        "  f1.close()\n",
        "  f2.close()\n",
        "  f3.close()\n",
        "  target=target_arr[0][0]\n",
        "  return Program,facts,target\n",
        "def CreateRules(Program,facts):\n",
        "  P=[]\n",
        "  m=len(Program)\n",
        "  for i in range(0,m):\n",
        "     rule=[]\n",
        "     a=Program[i].split()\n",
        "     GT=[]\n",
        "     for j in range(0,len(a)-1):\n",
        "       GT.append(int(a[j]))\n",
        "     rule.append(GT)\n",
        "     KL=[int(a[len(a)-1])]\n",
        "     rule.append(KL)\n",
        "     P.append(rule)\n",
        "  Hypo=[]\n",
        "  n=len(facts)\n",
        "  for i in range(0,n):\n",
        "    a=facts[i].split()\n",
        "    Hypo.append(int(a[0]))\n",
        "  return P,Hypo\n",
        "def BackwardChaining(x:list,y,target):\n",
        "     if target in Hypo or (not(x[0] in target_arr) and not(x[0] in Hypo)) or (not(x[1] in target_arr) and not(x[1] in Hypo)): return\n",
        "     stack.append([x,y])\n",
        "     print(stack) \n",
        "     target1=x[0]\n",
        "     target2=x[1]\n",
        "     for i in P:\n",
        "       if i[1][0]==target1:\n",
        "          BackwardChaining(i[0],i[1][0],target1)\n",
        "       if i[1][0]==target2:\n",
        "          BackwardChaining(i[0],i[1][0],target2)\n"
      ],
      "execution_count": 0,
      "outputs": []
    },
    {
      "cell_type": "code",
      "metadata": {
        "id": "OdUty1OVA2GM",
        "colab_type": "code",
        "colab": {
          "base_uri": "https://localhost:8080/",
          "height": 50
        },
        "outputId": "9f4d6bb8-88d9-463f-8740-50a28de3f089"
      },
      "source": [
        "print(P)\n",
        "print(Hypo)"
      ],
      "execution_count": 7,
      "outputs": [
        {
          "output_type": "stream",
          "text": [
            "[[[0, 1], [2]], [[2, 3], [4]], [[5, 1], [6]], [[0, 4], [7]], [[5], [4]], [[1, 4], [6]]]\n",
            "[0, 1, 3]\n"
          ],
          "name": "stdout"
        }
      ]
    },
    {
      "cell_type": "code",
      "metadata": {
        "id": "WKGg0MkkAzQH",
        "colab_type": "code",
        "colab": {
          "base_uri": "https://localhost:8080/",
          "height": 117
        },
        "outputId": "760c6dae-3ee4-4c91-a21f-b4ae1dbb8c56"
      },
      "source": [
        "if __name__== '__main__':\n",
        "  Program,facts,target=DocFile()\n",
        "  P,Hypo=CreateRules(Program,facts)\n",
        "  target=int(target)\n",
        "  stack=[]\n",
        "  target_arr=[]\n",
        "  for i in P:\n",
        "    if not(i[1][0] in target_arr): target_arr.append(i[1][0])\n",
        "  i=target\n",
        "  for j in P: \n",
        "    if j[1][0]==i:\n",
        "      BackwardChaining(j[0],j[1][0],i)\n",
        "  for i in stack:\n",
        "    print(i[0],\"->\",i[1])"
      ],
      "execution_count": 38,
      "outputs": [
        {
          "output_type": "stream",
          "text": [
            "[[[1, 4], 6]]\n",
            "[[[1, 4], 6], [[2, 3], 4]]\n",
            "[[[1, 4], 6], [[2, 3], 4], [[0, 1], 2]]\n",
            "[1, 4] -> 6\n",
            "[2, 3] -> 4\n",
            "[0, 1] -> 2\n"
          ],
          "name": "stdout"
        }
      ]
    }
  ]
}